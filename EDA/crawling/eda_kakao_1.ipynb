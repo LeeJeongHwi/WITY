{
 "cells": [
  {
   "cell_type": "code",
   "execution_count": 1,
   "metadata": {},
   "outputs": [],
   "source": [
    "import pandas as pd\n",
    "import numpy as np"
   ]
  },
  {
   "cell_type": "code",
   "execution_count": 4,
   "metadata": {},
   "outputs": [
    {
     "data": {
      "text/plain": [
       "(186, 7)"
      ]
     },
     "execution_count": 4,
     "metadata": {},
     "output_type": "execute_result"
    }
   ],
   "source": [
    "# CSV 파일 읽기\n",
    "df = pd.read_csv(\"kakao_place_info_list2.csv\")\n",
    "df.shape"
   ]
  },
  {
   "cell_type": "code",
   "execution_count": 11,
   "metadata": {},
   "outputs": [
    {
     "name": "stdout",
     "output_type": "stream",
     "text": [
      "565\n"
     ]
    }
   ],
   "source": [
    "# 행이 동일한 중복된 행 찾기\n",
    "print(len(df[df.duplicated()]))\n",
    "# 중복 데이터 제거 (모든 컬럼 기준으로 중복을 찾음)\n",
    "# df = df.drop_duplicates()\n",
    "# print(df.shape)"
   ]
  },
  {
   "cell_type": "code",
   "execution_count": 57,
   "metadata": {},
   "outputs": [
    {
     "name": "stdout",
     "output_type": "stream",
     "text": [
      "        id domain         name category  rating  \\\n",
      "0       13  kakao     서린바지락칼국수      칼국수     2.5   \n",
      "1       18  kakao   노모어피자 대학로점       피자     5.0   \n",
      "2       20  kakao        토속삼계탕      삼계탕     4.5   \n",
      "3       22  kakao  삼형제김밥 종로구청점       분식     4.6   \n",
      "4       26  kakao        몽쁘띠쁠라       카페     5.0   \n",
      "...    ...    ...          ...      ...     ...   \n",
      "2003  6576  kakao          가봉루     중국요리     3.2   \n",
      "2004  6578  kakao   고대멸치국수 종로점       국수     3.6   \n",
      "2005  6581  kakao          대성집       국밥     4.1   \n",
      "2006  6591  kakao         아사리판    커피전문점     5.0   \n",
      "2007  6594  kakao       함흥곰보냉면       냉면     2.4   \n",
      "\n",
      "                                       address  \\\n",
      "0     서울 종로구 종로 19 르메이에르종로타운1 2층 211-3, 212-1호   \n",
      "1                         서울 종로구 창경궁로 246 1-2층   \n",
      "2                            서울 종로구 사직로 101 1층   \n",
      "3                             서울 종로구 삼봉로 60 1층   \n",
      "4                서울 종로구 동숭길 101 현대엘리베이터빌딩 지하1층   \n",
      "...                                        ...   \n",
      "2003                          서울 종로구 세종대로23길 3   \n",
      "2004                         서울 종로구 종로46길 9 1층   \n",
      "2005                           서울 종로구 사직로 5 1층   \n",
      "2006                      서울 종로구 종로40길 20 2,3층   \n",
      "2007         서울 종로구 창경궁로 109 세운스퀘어 4층 401,405호   \n",
      "\n",
      "                                         business_hours  \n",
      "0                               영업시간: 월~금 11:00 ~ 21:00  \n",
      "1     영업시간: 월,화,수,금,토,일 10:00 ~ 02:00 영업시간: 목 10:00 ...  \n",
      "2                                                   NaN  \n",
      "3                 금일영업마감 수정 제안 이동하기: 월~금 07:00 ~ 19:00   \n",
      "4                               영업시간: 화~일 11:30 ~ 21:00  \n",
      "...                                                 ...  \n",
      "2003                            영업시간: 월~토 11:30 ~ 21:00  \n",
      "2004                  영업중 수정 제안 이동하기: 매일 11:00 ~ 05:00   \n",
      "2005  영업시간: 월~금 10:30 ~ 20:00 영업시간: 토 10:30 ~ 19:00 ...  \n",
      "2006                            영업시간: 월~금 09:00 ~ 18:30  \n",
      "2007    영업시간: 월~금 10:30 ~ 20:00 영업시간: 토,일 10:00 ~ 22:00  \n",
      "\n",
      "[2008 rows x 7 columns]\n"
     ]
    }
   ],
   "source": [
    "# 컬럼명 변경\n",
    "df.rename(\n",
    "    columns={\n",
    "        \"번호\": \"id\",\n",
    "        \"도메인\": \"domain\",\n",
    "        \"상호명\": \"name\",\n",
    "        \"주소\": \"address\",\n",
    "        \"키워드\": \"category\",\n",
    "        \"가게평점\": \"rating\",\n",
    "        \"영업시간\": \"business_hours\"\n",
    "    },\n",
    "    inplace=True\n",
    ")\n",
    "\n",
    "# 컬럼 순서 재배열\n",
    "columns_order = [\"id\", \"domain\", \"name\", \"category\", \"rating\", \"address\", \"business_hours\"]\n",
    "df = df[columns_order]\n",
    "\n",
    "print(df)"
   ]
  },
  {
   "cell_type": "code",
   "execution_count": 58,
   "metadata": {},
   "outputs": [
    {
     "name": "stdout",
     "output_type": "stream",
     "text": [
      "        id domain name category  rating address business_hours\n",
      "0        1  kakao  NaN      NaN     NaN     NaN            NaN\n",
      "1        2  kakao  NaN      NaN     NaN     NaN            NaN\n",
      "2        3  kakao  NaN      NaN     NaN     NaN            NaN\n",
      "3        4  kakao  NaN      NaN     NaN     NaN            NaN\n",
      "4        5  kakao  NaN      NaN     NaN     NaN            NaN\n",
      "...    ...    ...  ...      ...     ...     ...            ...\n",
      "6600  6601  kakao  NaN      NaN     NaN     NaN            NaN\n",
      "6601  6602  kakao  NaN      NaN     NaN     NaN            NaN\n",
      "6602  6603  kakao  NaN      NaN     NaN     NaN            NaN\n",
      "6603  6604  kakao  NaN      NaN     NaN     NaN            NaN\n",
      "6604  6605  kakao  NaN      NaN     NaN     NaN            NaN\n",
      "\n",
      "[6605 rows x 7 columns]\n"
     ]
    }
   ],
   "source": [
    "max_id = 6605 # 6605, 377\n",
    "existing_ids = df['id'].dropna().astype(int).tolist()\n",
    "all_ids = list(range(1, max_id + 1))\n",
    "\n",
    "# 2. 기존 ID를 제외한 사용 가능한 ID 생성\n",
    "available_ids = [i for i in all_ids if i not in existing_ids]\n",
    "\n",
    "# 3. 새로운 데이터프레임 만들기 (1부터 max_id까지 모든 ID 포함)\n",
    "full_df = pd.DataFrame({'id': all_ids})\n",
    "\n",
    "# 4. 기존 데이터와 병합하여 기존 ID 데이터 유지\n",
    "full_df = full_df.merge(df, on='id', how='left')\n",
    "\n",
    "# 5. 도메인 값이 비어 있는 경우 'kakao'로 채우기\n",
    "full_df['domain'] = full_df['domain'].fillna('kakao')\n",
    "\n",
    "# 6. 결과 확인\n",
    "print(full_df)"
   ]
  },
  {
   "cell_type": "code",
   "execution_count": 59,
   "metadata": {},
   "outputs": [
    {
     "name": "stdout",
     "output_type": "stream",
     "text": [
      "        id domain name category  rating address business_hours\n",
      "0        1  kakao                   NaN                       \n",
      "1        2  kakao                   NaN                       \n",
      "2        3  kakao                   NaN                       \n",
      "3        4  kakao                   NaN                       \n",
      "4        5  kakao                   NaN                       \n",
      "...    ...    ...  ...      ...     ...     ...            ...\n",
      "6600  6601  kakao                   NaN                       \n",
      "6601  6602  kakao                   NaN                       \n",
      "6602  6603  kakao                   NaN                       \n",
      "6603  6604  kakao                   NaN                       \n",
      "6604  6605  kakao                   NaN                       \n",
      "\n",
      "[6605 rows x 7 columns]\n"
     ]
    }
   ],
   "source": [
    "for col in ['domain', 'name', 'category', \"address\", \"business_hours\"]:\n",
    "    full_df[col] = full_df[col].fillna('')\n",
    "print(full_df)"
   ]
  },
  {
   "cell_type": "code",
   "execution_count": 60,
   "metadata": {},
   "outputs": [],
   "source": [
    "# csv로 저장\n",
    "full_df.to_csv(\"kakao_store_info.csv\", index=False)"
   ]
  },
  {
   "cell_type": "code",
   "execution_count": 49,
   "metadata": {},
   "outputs": [],
   "source": [
    "# CSV 파일 읽기\n",
    "reviews = pd.read_csv(\"kakao_reivew_lists2.csv\")"
   ]
  },
  {
   "cell_type": "code",
   "execution_count": 50,
   "metadata": {},
   "outputs": [
    {
     "name": "stdout",
     "output_type": "stream",
     "text": [
      "       id domain      name                                            reviews\n",
      "0       1  kakao       인왕산                                               뷰 맛집\n",
      "1       1  kakao       인왕산  경북궁역에서 출발해서 정상까지 약 1시간20분 소요됐습니다.야경이 너무 예쁘고, 성...\n",
      "2       1  kakao       인왕산  난이도는 1(쉬움)~5(어려움) 중에, 2레벨 정도 이고요, 한양도성 성벽이, 인왕...\n",
      "3       1  kakao       인왕산                                           378번째 등산\n",
      "4       1  kakao       인왕산                                                NaN\n",
      "...   ...    ...       ...                                                ...\n",
      "2226  376  kakao  예스24스테이지                                       알바생 좀 친잘했으면…\n",
      "2227  376  kakao  예스24스테이지  주차관리인 완전 친절하시네요. 아래 21년 후기에 안좋은 리뷰 있어 걱정했는데 너무...\n",
      "2228  376  kakao  예스24스테이지                     1,2,3관 모두 무대만 좀 높이면 다 잘보여서 좋아요\n",
      "2229  376  kakao  예스24스테이지                           다른 공연장들에 비해 시설이 매우 열악하네요\n",
      "2230  376  kakao  예스24스테이지                                                괜찮음\n",
      "\n",
      "[2231 rows x 4 columns]\n"
     ]
    }
   ],
   "source": [
    "# 컬럼명 변경\n",
    "reviews.rename(\n",
    "    columns={\n",
    "        \"number\": \"id\",\n",
    "        # \"도메인\": \"domain\",\n",
    "        # \"상호명\": \"name\",\n",
    "        # \"주소\": \"address\",\n",
    "        # \"키워드\": \"category\",\n",
    "        # \"가게평점\": \"rating\",\n",
    "        # \"영업시간\": \"business_hours\"\n",
    "        # \"리뷰\": \"reviews\"\n",
    "    },\n",
    "    inplace=True\n",
    ")\n",
    "print(reviews)"
   ]
  },
  {
   "cell_type": "code",
   "execution_count": 51,
   "metadata": {},
   "outputs": [
    {
     "name": "stdout",
     "output_type": "stream",
     "text": [
      "       id domain      name                                            reviews\n",
      "0       1  kakao       인왕산                                               뷰 맛집\n",
      "1       1  kakao       인왕산  경북궁역에서 출발해서 정상까지 약 1시간20분 소요됐습니다.야경이 너무 예쁘고, 성...\n",
      "2       1  kakao       인왕산  난이도는 1(쉬움)~5(어려움) 중에, 2레벨 정도 이고요, 한양도성 성벽이, 인왕...\n",
      "3       1  kakao       인왕산                                           378번째 등산\n",
      "5       1  kakao       인왕산                          서울을 너무 예쁘게 담을 수 있는 야트막한 산\n",
      "...   ...    ...       ...                                                ...\n",
      "2226  376  kakao  예스24스테이지                                       알바생 좀 친잘했으면…\n",
      "2227  376  kakao  예스24스테이지  주차관리인 완전 친절하시네요. 아래 21년 후기에 안좋은 리뷰 있어 걱정했는데 너무...\n",
      "2228  376  kakao  예스24스테이지                     1,2,3관 모두 무대만 좀 높이면 다 잘보여서 좋아요\n",
      "2229  376  kakao  예스24스테이지                           다른 공연장들에 비해 시설이 매우 열악하네요\n",
      "2230  376  kakao  예스24스테이지                                                괜찮음\n",
      "\n",
      "[1522 rows x 4 columns]\n"
     ]
    }
   ],
   "source": [
    "# 리뷰 컬럼에서 빈 값이 있는 행 삭제\n",
    "reviews = reviews.dropna(subset=[\"reviews\"])\n",
    "\n",
    "# 결과 확인\n",
    "print(reviews)"
   ]
  },
  {
   "cell_type": "code",
   "execution_count": 52,
   "metadata": {},
   "outputs": [],
   "source": [
    "# csv로 저장\n",
    "reviews.to_csv(\"kakao_spot_reviews.csv\", index=False)"
   ]
  },
  {
   "cell_type": "code",
   "execution_count": 4,
   "metadata": {},
   "outputs": [
    {
     "name": "stdout",
     "output_type": "stream",
     "text": [
      "        id domain name category  rating address business_hours  price_per_one\n",
      "0        1  kakao  NaN      NaN     NaN     NaN            NaN            NaN\n",
      "1        2  kakao  NaN      NaN     NaN     NaN            NaN            NaN\n",
      "2        3  kakao  NaN      NaN     NaN     NaN            NaN            NaN\n",
      "3        4  kakao  NaN      NaN     NaN     NaN            NaN            NaN\n",
      "4        5  kakao  NaN      NaN     NaN     NaN            NaN            NaN\n",
      "...    ...    ...  ...      ...     ...     ...            ...            ...\n",
      "6600  6601  kakao  NaN      NaN     NaN     NaN            NaN            NaN\n",
      "6601  6602  kakao  NaN      NaN     NaN     NaN            NaN            NaN\n",
      "6602  6603  kakao  NaN      NaN     NaN     NaN            NaN            NaN\n",
      "6603  6604  kakao  NaN      NaN     NaN     NaN            NaN            NaN\n",
      "6604  6605  kakao  NaN      NaN     NaN     NaN            NaN            NaN\n",
      "\n",
      "[6605 rows x 8 columns]\n"
     ]
    }
   ],
   "source": [
    "############\n",
    "# \"price_per_one\" 추가하고 컬럼 재배치\n",
    "# df = pd.read_csv(\"kakao_store_info.csv\")\n",
    "# df['price_per_one'] = np.nan\n",
    "# 컬럼 순서 재배열\n",
    "# columns_order = [\"id\", \"domain\", \"name\", \"reviews\"]\n",
    "# columns_order = [\"id\", \"domain\", \"name\", \"category\", \"rating\", \"address\", \"business_hours\", \"price_per_one\"]\n",
    "# df = df[columns_order]\n",
    "print(df)\n",
    "# csv 저장\n",
    "df.to_csv(\"kakao_store_info.csv\", index=False)"
   ]
  },
  {
   "cell_type": "code",
   "execution_count": null,
   "metadata": {},
   "outputs": [],
   "source": []
  }
 ],
 "metadata": {
  "kernelspec": {
   "display_name": ".venv",
   "language": "python",
   "name": "python3"
  },
  "language_info": {
   "codemirror_mode": {
    "name": "ipython",
    "version": 3
   },
   "file_extension": ".py",
   "mimetype": "text/x-python",
   "name": "python",
   "nbconvert_exporter": "python",
   "pygments_lexer": "ipython3",
   "version": "3.13.1"
  }
 },
 "nbformat": 4,
 "nbformat_minor": 2
}
