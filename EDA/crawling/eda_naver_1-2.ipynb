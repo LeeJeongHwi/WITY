{
 "cells": [
  {
   "cell_type": "code",
   "execution_count": 2,
   "metadata": {},
   "outputs": [],
   "source": [
    "import pandas as pd\n",
    "import numpy as np\n",
    "import ast"
   ]
  },
  {
   "cell_type": "code",
   "execution_count": 26,
   "metadata": {},
   "outputs": [
    {
     "name": "stdout",
     "output_type": "stream",
     "text": [
      "(377, 7)\n",
      "(377, 8)\n",
      "      id domain       name category  rating                 address  \\\n",
      "0      1  naver        인왕산        산     NaN         서울 종로구 무악동 산2-1   \n",
      "1      2  naver        북악산        산     NaN              서울 종로구 부암동   \n",
      "2      3  naver        청계천     강,하천     NaN              서울 종로구 창신동   \n",
      "3      4  naver      수성동계곡       계곡     NaN        서울 종로구 옥인동 185-3   \n",
      "4      5  naver      백사실계곡       계곡     NaN          서울 종로구 부암동 115   \n",
      "..   ...    ...        ...      ...     ...                     ...   \n",
      "372  373  naver  예스24아트원1관     부속시설     NaN        서울 종로구 대학로12길 83   \n",
      "373  374  naver      아트하우스      공연장     NaN        서울 종로구 대학로10길 26   \n",
      "374  375  naver      대림미술관      미술관    3.89  서울 종로구 자하문로4길 21 대림미술관   \n",
      "375  376  naver   예스24스테이지  공연,연극시설    4.48        서울 종로구 대학로12길 21   \n",
      "376  377  naver  예스24아트원2관     부속시설     NaN        서울 종로구 대학로12길 83   \n",
      "\n",
      "                                        business_hours  price_per_one  \n",
      "0                                                  NaN            NaN  \n",
      "1     매일 07:00 - 18:00 (16시까지 입산),봄,가을(3~4월,9~10월) ...            NaN  \n",
      "2                                                  NaN            NaN  \n",
      "3                                    매일\\n00:00 - 24:00            NaN  \n",
      "4                                                  NaN            NaN  \n",
      "..                                                 ...            ...  \n",
      "372                                                NaN            NaN  \n",
      "373                                                NaN            NaN  \n",
      "374   목\\n11:00 - 19:00 금\\n11:00 - 20:00 토\\n11:00 - ...            NaN  \n",
      "375   목\\n13:00 - 22:30 금\\n13:00 - 22:30 토\\n12:00 - ...            NaN  \n",
      "376                                                NaN            NaN  \n",
      "\n",
      "[377 rows x 8 columns]\n"
     ]
    }
   ],
   "source": [
    "# 명소 데이터\n",
    "df = pd.read_csv(\"naver_spot_info.csv\")\n",
    "print(df.shape)\n",
    "df['price_per_one'] = np.nan\n",
    "print(df.shape)\n",
    "print(df)"
   ]
  },
  {
   "cell_type": "code",
   "execution_count": 27,
   "metadata": {},
   "outputs": [
    {
     "name": "stdout",
     "output_type": "stream",
     "text": [
      "27\n",
      "(350, 8)\n"
     ]
    }
   ],
   "source": [
    "# 행이 동일한 중복된 행 찾기(크롤링 시간에 따라 영업시간 다름 이슈로 name 기준 중복 제거하기로 함)\n",
    "# print(len(df[df.duplicated()]))\n",
    "# print(df[df.duplicated()])\n",
    "print(len(df[df[\"name\"].duplicated(keep=\"first\")]))\n",
    "# 눈으로 확인하고 싶어서~\n",
    "# duplicates = df[df[\"name\"].duplicated(keep=False)]\n",
    "# duplicates.to_csv(\"duplicates.csv\", index=False)\n",
    "\n",
    "# name 중복 행 제거\n",
    "df = df.drop_duplicates(subset=['name'], keep='first')\n",
    "print(df.shape)\n"
   ]
  },
  {
   "cell_type": "code",
   "execution_count": 28,
   "metadata": {},
   "outputs": [
    {
     "data": {
      "text/html": [
       "<div>\n",
       "<style scoped>\n",
       "    .dataframe tbody tr th:only-of-type {\n",
       "        vertical-align: middle;\n",
       "    }\n",
       "\n",
       "    .dataframe tbody tr th {\n",
       "        vertical-align: top;\n",
       "    }\n",
       "\n",
       "    .dataframe thead th {\n",
       "        text-align: right;\n",
       "    }\n",
       "</style>\n",
       "<table border=\"1\" class=\"dataframe\">\n",
       "  <thead>\n",
       "    <tr style=\"text-align: right;\">\n",
       "      <th></th>\n",
       "      <th>id</th>\n",
       "      <th>domain</th>\n",
       "      <th>name</th>\n",
       "      <th>category</th>\n",
       "      <th>rating</th>\n",
       "      <th>address</th>\n",
       "      <th>business_hours</th>\n",
       "      <th>price_per_one</th>\n",
       "    </tr>\n",
       "  </thead>\n",
       "  <tbody>\n",
       "    <tr>\n",
       "      <th>0</th>\n",
       "      <td>1</td>\n",
       "      <td>naver</td>\n",
       "      <td>인왕산</td>\n",
       "      <td>산</td>\n",
       "      <td>NaN</td>\n",
       "      <td>서울 종로구 무악동 산2-1</td>\n",
       "      <td>NaN</td>\n",
       "      <td>NaN</td>\n",
       "    </tr>\n",
       "    <tr>\n",
       "      <th>1</th>\n",
       "      <td>2</td>\n",
       "      <td>naver</td>\n",
       "      <td>북악산</td>\n",
       "      <td>산</td>\n",
       "      <td>NaN</td>\n",
       "      <td>서울 종로구 부암동</td>\n",
       "      <td>매일 07:00 - 18:00 (16시까지 입산),봄,가을(3~4월,9~10월) ...</td>\n",
       "      <td>NaN</td>\n",
       "    </tr>\n",
       "    <tr>\n",
       "      <th>2</th>\n",
       "      <td>3</td>\n",
       "      <td>naver</td>\n",
       "      <td>청계천</td>\n",
       "      <td>강,하천</td>\n",
       "      <td>NaN</td>\n",
       "      <td>서울 종로구 창신동</td>\n",
       "      <td>NaN</td>\n",
       "      <td>NaN</td>\n",
       "    </tr>\n",
       "    <tr>\n",
       "      <th>3</th>\n",
       "      <td>4</td>\n",
       "      <td>naver</td>\n",
       "      <td>수성동계곡</td>\n",
       "      <td>계곡</td>\n",
       "      <td>NaN</td>\n",
       "      <td>서울 종로구 옥인동 185-3</td>\n",
       "      <td>매일\\n00:00 - 24:00</td>\n",
       "      <td>NaN</td>\n",
       "    </tr>\n",
       "    <tr>\n",
       "      <th>4</th>\n",
       "      <td>5</td>\n",
       "      <td>naver</td>\n",
       "      <td>백사실계곡</td>\n",
       "      <td>계곡</td>\n",
       "      <td>NaN</td>\n",
       "      <td>서울 종로구 부암동 115</td>\n",
       "      <td>NaN</td>\n",
       "      <td>NaN</td>\n",
       "    </tr>\n",
       "    <tr>\n",
       "      <th>...</th>\n",
       "      <td>...</td>\n",
       "      <td>...</td>\n",
       "      <td>...</td>\n",
       "      <td>...</td>\n",
       "      <td>...</td>\n",
       "      <td>...</td>\n",
       "      <td>...</td>\n",
       "      <td>...</td>\n",
       "    </tr>\n",
       "    <tr>\n",
       "      <th>372</th>\n",
       "      <td>373</td>\n",
       "      <td>naver</td>\n",
       "      <td>예스24아트원1관</td>\n",
       "      <td>부속시설</td>\n",
       "      <td>NaN</td>\n",
       "      <td>서울 종로구 대학로12길 83</td>\n",
       "      <td>NaN</td>\n",
       "      <td>NaN</td>\n",
       "    </tr>\n",
       "    <tr>\n",
       "      <th>373</th>\n",
       "      <td>374</td>\n",
       "      <td>naver</td>\n",
       "      <td>아트하우스</td>\n",
       "      <td>공연장</td>\n",
       "      <td>NaN</td>\n",
       "      <td>서울 종로구 대학로10길 26</td>\n",
       "      <td>NaN</td>\n",
       "      <td>NaN</td>\n",
       "    </tr>\n",
       "    <tr>\n",
       "      <th>374</th>\n",
       "      <td>375</td>\n",
       "      <td>naver</td>\n",
       "      <td>대림미술관</td>\n",
       "      <td>미술관</td>\n",
       "      <td>3.89</td>\n",
       "      <td>서울 종로구 자하문로4길 21 대림미술관</td>\n",
       "      <td>목\\n11:00 - 19:00 금\\n11:00 - 20:00 토\\n11:00 - ...</td>\n",
       "      <td>NaN</td>\n",
       "    </tr>\n",
       "    <tr>\n",
       "      <th>375</th>\n",
       "      <td>376</td>\n",
       "      <td>naver</td>\n",
       "      <td>예스24스테이지</td>\n",
       "      <td>공연,연극시설</td>\n",
       "      <td>4.48</td>\n",
       "      <td>서울 종로구 대학로12길 21</td>\n",
       "      <td>목\\n13:00 - 22:30 금\\n13:00 - 22:30 토\\n12:00 - ...</td>\n",
       "      <td>NaN</td>\n",
       "    </tr>\n",
       "    <tr>\n",
       "      <th>376</th>\n",
       "      <td>377</td>\n",
       "      <td>naver</td>\n",
       "      <td>예스24아트원2관</td>\n",
       "      <td>부속시설</td>\n",
       "      <td>NaN</td>\n",
       "      <td>서울 종로구 대학로12길 83</td>\n",
       "      <td>NaN</td>\n",
       "      <td>NaN</td>\n",
       "    </tr>\n",
       "  </tbody>\n",
       "</table>\n",
       "<p>350 rows × 8 columns</p>\n",
       "</div>"
      ],
      "text/plain": [
       "      id domain       name category  rating                 address  \\\n",
       "0      1  naver        인왕산        산     NaN         서울 종로구 무악동 산2-1   \n",
       "1      2  naver        북악산        산     NaN              서울 종로구 부암동   \n",
       "2      3  naver        청계천     강,하천     NaN              서울 종로구 창신동   \n",
       "3      4  naver      수성동계곡       계곡     NaN        서울 종로구 옥인동 185-3   \n",
       "4      5  naver      백사실계곡       계곡     NaN          서울 종로구 부암동 115   \n",
       "..   ...    ...        ...      ...     ...                     ...   \n",
       "372  373  naver  예스24아트원1관     부속시설     NaN        서울 종로구 대학로12길 83   \n",
       "373  374  naver      아트하우스      공연장     NaN        서울 종로구 대학로10길 26   \n",
       "374  375  naver      대림미술관      미술관    3.89  서울 종로구 자하문로4길 21 대림미술관   \n",
       "375  376  naver   예스24스테이지  공연,연극시설    4.48        서울 종로구 대학로12길 21   \n",
       "376  377  naver  예스24아트원2관     부속시설     NaN        서울 종로구 대학로12길 83   \n",
       "\n",
       "                                        business_hours  price_per_one  \n",
       "0                                                  NaN            NaN  \n",
       "1     매일 07:00 - 18:00 (16시까지 입산),봄,가을(3~4월,9~10월) ...            NaN  \n",
       "2                                                  NaN            NaN  \n",
       "3                                    매일\\n00:00 - 24:00            NaN  \n",
       "4                                                  NaN            NaN  \n",
       "..                                                 ...            ...  \n",
       "372                                                NaN            NaN  \n",
       "373                                                NaN            NaN  \n",
       "374   목\\n11:00 - 19:00 금\\n11:00 - 20:00 토\\n11:00 - ...            NaN  \n",
       "375   목\\n13:00 - 22:30 금\\n13:00 - 22:30 토\\n12:00 - ...            NaN  \n",
       "376                                                NaN            NaN  \n",
       "\n",
       "[350 rows x 8 columns]"
      ]
     },
     "execution_count": 28,
     "metadata": {},
     "output_type": "execute_result"
    }
   ],
   "source": [
    "df"
   ]
  },
  {
   "cell_type": "code",
   "execution_count": 29,
   "metadata": {},
   "outputs": [
    {
     "name": "stdout",
     "output_type": "stream",
     "text": [
      "      id domain       name category  rating                 address  \\\n",
      "0      1  naver        인왕산        산     NaN         서울 종로구 무악동 산2-1   \n",
      "1      2  naver        북악산        산     NaN              서울 종로구 부암동   \n",
      "2      3  naver        청계천     강,하천     NaN              서울 종로구 창신동   \n",
      "3      4  naver      수성동계곡       계곡     NaN        서울 종로구 옥인동 185-3   \n",
      "4      5  naver      백사실계곡       계곡     NaN          서울 종로구 부암동 115   \n",
      "..   ...    ...        ...      ...     ...                     ...   \n",
      "372  373  naver  예스24아트원1관     부속시설     NaN        서울 종로구 대학로12길 83   \n",
      "373  374  naver      아트하우스      공연장     NaN        서울 종로구 대학로10길 26   \n",
      "374  375  naver      대림미술관      미술관    3.89  서울 종로구 자하문로4길 21 대림미술관   \n",
      "375  376  naver   예스24스테이지  공연,연극시설    4.48        서울 종로구 대학로12길 21   \n",
      "376  377  naver  예스24아트원2관     부속시설     NaN        서울 종로구 대학로12길 83   \n",
      "\n",
      "                                        business_hours  price_per_one  \n",
      "0                                                  NaN            NaN  \n",
      "1     매일 07:00 - 18:00 (16시까지 입산),봄,가을(3~4월,9~10월) ...            NaN  \n",
      "2                                                  NaN            NaN  \n",
      "3                                    매일\\n00:00 - 24:00            NaN  \n",
      "4                                                  NaN            NaN  \n",
      "..                                                 ...            ...  \n",
      "372                                                NaN            NaN  \n",
      "373                                                NaN            NaN  \n",
      "374   목\\n11:00 - 19:00 금\\n11:00 - 20:00 토\\n11:00 - ...            NaN  \n",
      "375   목\\n13:00 - 22:30 금\\n13:00 - 22:30 토\\n12:00 - ...            NaN  \n",
      "376                                                NaN            NaN  \n",
      "\n",
      "[350 rows x 8 columns]\n"
     ]
    }
   ],
   "source": [
    "# 빈 문자열이나 None을 NaN으로 변경\n",
    "df.replace({\"\": np.nan}, inplace=True)\n",
    "# 결과 확인\n",
    "print(df)"
   ]
  },
  {
   "cell_type": "code",
   "execution_count": 31,
   "metadata": {},
   "outputs": [
    {
     "data": {
      "text/plain": [
       "array(['산', '강,하천', '계곡', '바위', '자연명소', '봉우리,고지', '능선명', '저수지,제', '체험마을',\n",
       "       '지역명소', '문화거리', '템플스테이', '드라이브', '전망대', '거리,골목', '광장', '먹자거리',\n",
       "       '절,사찰', '계절거리', '한복대여', '천주교', '자전거', '세계문화유산', '궁궐', '문화,유적',\n",
       "       '국가유산', '기념물', '유적지,사적지', '보물', '릉,묘,총', '성곽명', '성곽문', '국보', '과학관',\n",
       "       '박물관', '관람,체험', '테마파크', '도서관', '어린이도서관', '키즈카페,실내놀이터', '놀이터', '시장',\n",
       "       '쇼핑센터,할인매장', '근린공원', '도시,테마공원', '산책로', '공원', '전시관', '갤러리,화랑',\n",
       "       '공연장', '공연,연극시설', '대학교', '서점', '미술관', '부속시설'], dtype=object)"
      ]
     },
     "execution_count": 31,
     "metadata": {},
     "output_type": "execute_result"
    }
   ],
   "source": [
    "# 연관 없는 카테고리 삭제\n",
    "# 카테고리 종류 확인\n",
    "df[\"category\"].unique()"
   ]
  },
  {
   "cell_type": "code",
   "execution_count": null,
   "metadata": {},
   "outputs": [
    {
     "name": "stdout",
     "output_type": "stream",
     "text": [
      "132\n",
      "3919\n"
     ]
    }
   ],
   "source": [
    "카테고리 리스트(자연명소, 체험관광, 문화유적, 쇼핑, 피크닉, 공연전시) = ['산', '강,하천', '계곡', '바위', \n",
    "'자연명소', '봉우리,고지', '능선명', '저수지,제', '체험마을',\n",
    "'지역명소', '문화거리', '템플스테이', '드라이브', '전망대', '거리,골목', '광장', '먹자거리',\n",
    "'절,사찰', '계절거리', '한복대여', '천주교', '자전거', '세계문화유산', '궁궐', '문화,유적',\n",
    "'국가유산', '기념물', '유적지,사적지', '보물', '릉,묘,총', '성곽명', '성곽문', '국보', '과학관',\n",
    "'박물관', '관람,체험', '테마파크', '도서관', '어린이도서관', '키즈카페,실내놀이터', '놀이터', '시장',\n",
    "'쇼핑센터,할인매장', '근린공원', '도시,테마공원', '산책로', '공원', '전시관', '갤러리,화랑',\n",
    "'공연장', '공연,연극시설', '대학교', '서점', '미술관', '부속시설']"
   ]
  },
  {
   "cell_type": "code",
   "execution_count": 32,
   "metadata": {},
   "outputs": [
    {
     "name": "stdout",
     "output_type": "stream",
     "text": [
      "   id domain   name  main_category category  rating           address  \\\n",
      "0   1  naver    인왕산            NaN        산     NaN   서울 종로구 무악동 산2-1   \n",
      "1   2  naver    북악산            NaN        산     NaN        서울 종로구 부암동   \n",
      "2   3  naver    청계천            NaN     강,하천     NaN        서울 종로구 창신동   \n",
      "3   4  naver  수성동계곡            NaN       계곡     NaN  서울 종로구 옥인동 185-3   \n",
      "4   5  naver  백사실계곡            NaN       계곡     NaN    서울 종로구 부암동 115   \n",
      "\n",
      "                                      business_hours  price_per_one  \n",
      "0                                                NaN            NaN  \n",
      "1   매일 07:00 - 18:00 (16시까지 입산),봄,가을(3~4월,9~10월) ...            NaN  \n",
      "2                                                NaN            NaN  \n",
      "3                                  매일\\n00:00 - 24:00            NaN  \n",
      "4                                                NaN            NaN  \n"
     ]
    }
   ],
   "source": [
    "# 남은 카테고리 대분류 지정\n",
    "\n",
    "# category 앞에 main_category 컬럼 추가\n",
    "df.insert(df.columns.get_loc('category'), 'main_category', np.nan)\n",
    "print(df.head())"
   ]
  },
  {
   "cell_type": "code",
   "execution_count": 34,
   "metadata": {},
   "outputs": [],
   "source": [
    "# list 구성\n",
    "nat = ['산', '강,하천', '계곡', '바위', '자연명소', '봉우리,고지', '능선명', '저수지,제']\n",
    "exp = ['체험마을', '자전거', '지역명소', '문화거리', '템플스테이', '드라이브', '전망대', '거리,골목', \n",
    "       '광장', '먹자거리', '절,사찰', '계절거리', '한복대여', '천주교', '과학관', '박물관', \n",
    "       '관람,체험', '테마파크', '도서관', '어린이도서관', '키즈카페,실내놀이터', '놀이터',]\n",
    "his = ['세계문화유산', '궁궐', '문화,유적', '국가유산', '기념물', '유적지,사적지', '보물', \n",
    "       '릉,묘,총', '성곽명', '성곽문', '국보']\n",
    "shop = ['시장', '쇼핑센터,할인매장']\n",
    "pic = ['근린공원', '도시,테마공원', '산책로', '공원']\n",
    "art = ['갤러리,화랑', '전시관', '공연장', '공연,연극시설', '대학교', '서점', '미술관', '부속시설']"
   ]
  },
  {
   "cell_type": "code",
   "execution_count": 35,
   "metadata": {},
   "outputs": [],
   "source": [
    "# main_category: 자연명소, 체험관광, 문화유적, 쇼핑, 피크닉, 공연전시\n",
    "def assign_main_category(category):\n",
    "    if pd.isna(category):  # category가 NaN일 경우\n",
    "        return None  # None을 반환해서 main_category도 NaN으로 설정\n",
    "    elif category in nat:\n",
    "        return \"자연명소\"\n",
    "    elif category in exp:\n",
    "        return \"체험관광\"\n",
    "    elif category in his:\n",
    "        return \"문화유적\"\n",
    "    elif category in shop:\n",
    "        return \"쇼핑\"\n",
    "    elif category in pic:\n",
    "        return \"피크닉\"\n",
    "    elif category in art:\n",
    "        return \"공연전시\"\n",
    "    else:\n",
    "        return \"기타\"\n",
    "\n",
    "# main_category 값 설정\n",
    "df[\"main_category\"] = df[\"category\"].apply(assign_main_category)"
   ]
  },
  {
   "cell_type": "code",
   "execution_count": 36,
   "metadata": {},
   "outputs": [
    {
     "name": "stdout",
     "output_type": "stream",
     "text": [
      "Empty DataFrame\n",
      "Columns: [id, domain, name, main_category, category, rating, address, business_hours, price_per_one]\n",
      "Index: []\n",
      "main_category\n",
      "체험관광    159\n",
      "문화유적     94\n",
      "공연전시     40\n",
      "피크닉      26\n",
      "자연명소     18\n",
      "쇼핑       13\n",
      "Name: count, dtype: int64\n",
      "350\n"
     ]
    }
   ],
   "source": [
    "print(df[df[\"main_category\"] == \"기타\"])\n",
    "print(df[\"main_category\"].value_counts())\n",
    "print(df[\"main_category\"].notna().sum())"
   ]
  },
  {
   "cell_type": "code",
   "execution_count": 37,
   "metadata": {},
   "outputs": [
    {
     "data": {
      "text/html": [
       "<div>\n",
       "<style scoped>\n",
       "    .dataframe tbody tr th:only-of-type {\n",
       "        vertical-align: middle;\n",
       "    }\n",
       "\n",
       "    .dataframe tbody tr th {\n",
       "        vertical-align: top;\n",
       "    }\n",
       "\n",
       "    .dataframe thead th {\n",
       "        text-align: right;\n",
       "    }\n",
       "</style>\n",
       "<table border=\"1\" class=\"dataframe\">\n",
       "  <thead>\n",
       "    <tr style=\"text-align: right;\">\n",
       "      <th></th>\n",
       "      <th>id</th>\n",
       "      <th>domain</th>\n",
       "      <th>name</th>\n",
       "      <th>main_category</th>\n",
       "      <th>category</th>\n",
       "      <th>rating</th>\n",
       "      <th>address</th>\n",
       "      <th>business_hours</th>\n",
       "      <th>price_per_one</th>\n",
       "    </tr>\n",
       "  </thead>\n",
       "  <tbody>\n",
       "    <tr>\n",
       "      <th>0</th>\n",
       "      <td>1</td>\n",
       "      <td>naver</td>\n",
       "      <td>인왕산</td>\n",
       "      <td>자연명소</td>\n",
       "      <td>산</td>\n",
       "      <td>NaN</td>\n",
       "      <td>서울 종로구 무악동 산2-1</td>\n",
       "      <td>NaN</td>\n",
       "      <td>NaN</td>\n",
       "    </tr>\n",
       "    <tr>\n",
       "      <th>1</th>\n",
       "      <td>2</td>\n",
       "      <td>naver</td>\n",
       "      <td>북악산</td>\n",
       "      <td>자연명소</td>\n",
       "      <td>산</td>\n",
       "      <td>NaN</td>\n",
       "      <td>서울 종로구 부암동</td>\n",
       "      <td>매일 07:00 - 18:00 (16시까지 입산),봄,가을(3~4월,9~10월) ...</td>\n",
       "      <td>NaN</td>\n",
       "    </tr>\n",
       "    <tr>\n",
       "      <th>2</th>\n",
       "      <td>3</td>\n",
       "      <td>naver</td>\n",
       "      <td>청계천</td>\n",
       "      <td>자연명소</td>\n",
       "      <td>강,하천</td>\n",
       "      <td>NaN</td>\n",
       "      <td>서울 종로구 창신동</td>\n",
       "      <td>NaN</td>\n",
       "      <td>NaN</td>\n",
       "    </tr>\n",
       "    <tr>\n",
       "      <th>3</th>\n",
       "      <td>4</td>\n",
       "      <td>naver</td>\n",
       "      <td>수성동계곡</td>\n",
       "      <td>자연명소</td>\n",
       "      <td>계곡</td>\n",
       "      <td>NaN</td>\n",
       "      <td>서울 종로구 옥인동 185-3</td>\n",
       "      <td>매일\\n00:00 - 24:00</td>\n",
       "      <td>NaN</td>\n",
       "    </tr>\n",
       "    <tr>\n",
       "      <th>4</th>\n",
       "      <td>5</td>\n",
       "      <td>naver</td>\n",
       "      <td>백사실계곡</td>\n",
       "      <td>자연명소</td>\n",
       "      <td>계곡</td>\n",
       "      <td>NaN</td>\n",
       "      <td>서울 종로구 부암동 115</td>\n",
       "      <td>NaN</td>\n",
       "      <td>NaN</td>\n",
       "    </tr>\n",
       "    <tr>\n",
       "      <th>...</th>\n",
       "      <td>...</td>\n",
       "      <td>...</td>\n",
       "      <td>...</td>\n",
       "      <td>...</td>\n",
       "      <td>...</td>\n",
       "      <td>...</td>\n",
       "      <td>...</td>\n",
       "      <td>...</td>\n",
       "      <td>...</td>\n",
       "    </tr>\n",
       "    <tr>\n",
       "      <th>372</th>\n",
       "      <td>373</td>\n",
       "      <td>naver</td>\n",
       "      <td>예스24아트원1관</td>\n",
       "      <td>공연전시</td>\n",
       "      <td>부속시설</td>\n",
       "      <td>NaN</td>\n",
       "      <td>서울 종로구 대학로12길 83</td>\n",
       "      <td>NaN</td>\n",
       "      <td>NaN</td>\n",
       "    </tr>\n",
       "    <tr>\n",
       "      <th>373</th>\n",
       "      <td>374</td>\n",
       "      <td>naver</td>\n",
       "      <td>아트하우스</td>\n",
       "      <td>공연전시</td>\n",
       "      <td>공연장</td>\n",
       "      <td>NaN</td>\n",
       "      <td>서울 종로구 대학로10길 26</td>\n",
       "      <td>NaN</td>\n",
       "      <td>NaN</td>\n",
       "    </tr>\n",
       "    <tr>\n",
       "      <th>374</th>\n",
       "      <td>375</td>\n",
       "      <td>naver</td>\n",
       "      <td>대림미술관</td>\n",
       "      <td>공연전시</td>\n",
       "      <td>미술관</td>\n",
       "      <td>3.89</td>\n",
       "      <td>서울 종로구 자하문로4길 21 대림미술관</td>\n",
       "      <td>목\\n11:00 - 19:00 금\\n11:00 - 20:00 토\\n11:00 - ...</td>\n",
       "      <td>NaN</td>\n",
       "    </tr>\n",
       "    <tr>\n",
       "      <th>375</th>\n",
       "      <td>376</td>\n",
       "      <td>naver</td>\n",
       "      <td>예스24스테이지</td>\n",
       "      <td>공연전시</td>\n",
       "      <td>공연,연극시설</td>\n",
       "      <td>4.48</td>\n",
       "      <td>서울 종로구 대학로12길 21</td>\n",
       "      <td>목\\n13:00 - 22:30 금\\n13:00 - 22:30 토\\n12:00 - ...</td>\n",
       "      <td>NaN</td>\n",
       "    </tr>\n",
       "    <tr>\n",
       "      <th>376</th>\n",
       "      <td>377</td>\n",
       "      <td>naver</td>\n",
       "      <td>예스24아트원2관</td>\n",
       "      <td>공연전시</td>\n",
       "      <td>부속시설</td>\n",
       "      <td>NaN</td>\n",
       "      <td>서울 종로구 대학로12길 83</td>\n",
       "      <td>NaN</td>\n",
       "      <td>NaN</td>\n",
       "    </tr>\n",
       "  </tbody>\n",
       "</table>\n",
       "<p>350 rows × 9 columns</p>\n",
       "</div>"
      ],
      "text/plain": [
       "      id domain       name main_category category  rating  \\\n",
       "0      1  naver        인왕산          자연명소        산     NaN   \n",
       "1      2  naver        북악산          자연명소        산     NaN   \n",
       "2      3  naver        청계천          자연명소     강,하천     NaN   \n",
       "3      4  naver      수성동계곡          자연명소       계곡     NaN   \n",
       "4      5  naver      백사실계곡          자연명소       계곡     NaN   \n",
       "..   ...    ...        ...           ...      ...     ...   \n",
       "372  373  naver  예스24아트원1관          공연전시     부속시설     NaN   \n",
       "373  374  naver      아트하우스          공연전시      공연장     NaN   \n",
       "374  375  naver      대림미술관          공연전시      미술관    3.89   \n",
       "375  376  naver   예스24스테이지          공연전시  공연,연극시설    4.48   \n",
       "376  377  naver  예스24아트원2관          공연전시     부속시설     NaN   \n",
       "\n",
       "                    address  \\\n",
       "0           서울 종로구 무악동 산2-1   \n",
       "1                서울 종로구 부암동   \n",
       "2                서울 종로구 창신동   \n",
       "3          서울 종로구 옥인동 185-3   \n",
       "4            서울 종로구 부암동 115   \n",
       "..                      ...   \n",
       "372        서울 종로구 대학로12길 83   \n",
       "373        서울 종로구 대학로10길 26   \n",
       "374  서울 종로구 자하문로4길 21 대림미술관   \n",
       "375        서울 종로구 대학로12길 21   \n",
       "376        서울 종로구 대학로12길 83   \n",
       "\n",
       "                                        business_hours  price_per_one  \n",
       "0                                                  NaN            NaN  \n",
       "1     매일 07:00 - 18:00 (16시까지 입산),봄,가을(3~4월,9~10월) ...            NaN  \n",
       "2                                                  NaN            NaN  \n",
       "3                                    매일\\n00:00 - 24:00            NaN  \n",
       "4                                                  NaN            NaN  \n",
       "..                                                 ...            ...  \n",
       "372                                                NaN            NaN  \n",
       "373                                                NaN            NaN  \n",
       "374   목\\n11:00 - 19:00 금\\n11:00 - 20:00 토\\n11:00 - ...            NaN  \n",
       "375   목\\n13:00 - 22:30 금\\n13:00 - 22:30 토\\n12:00 - ...            NaN  \n",
       "376                                                NaN            NaN  \n",
       "\n",
       "[350 rows x 9 columns]"
      ]
     },
     "execution_count": 37,
     "metadata": {},
     "output_type": "execute_result"
    }
   ],
   "source": [
    "df"
   ]
  },
  {
   "cell_type": "code",
   "execution_count": 38,
   "metadata": {},
   "outputs": [],
   "source": [
    "# 350 데이터 저장저장!! 완성 및 이름 변경 -> row_data/naver_spot_info.csv\n",
    "df.to_csv(\"naver_spot_info.csv\", index=False)"
   ]
  },
  {
   "cell_type": "code",
   "execution_count": 41,
   "metadata": {},
   "outputs": [
    {
     "name": "stdout",
     "output_type": "stream",
     "text": [
      "(350, 9)\n",
      "350\n",
      "(5092, 4)\n",
      "5092\n",
      "316\n"
     ]
    }
   ],
   "source": [
    "# naver_spot_info.csv id 기반으로 리뷰데이터 매칭\n",
    "info = pd.read_csv(\"naver_spot_info.csv\")\n",
    "print(info.shape)\n",
    "print(sum(info[\"name\"].notna()))\n",
    "# print(sum(info[\"category\"].notna()))\n",
    "# 리뷰 데이터 읽기\n",
    "reviews = pd.read_csv(\"naver_spot_reviews.csv\")\n",
    "print(reviews.shape)\n",
    "print(sum(reviews[\"reviews\"].notna()))\n",
    "print(len(reviews[\"id\"].unique()))"
   ]
  },
  {
   "cell_type": "code",
   "execution_count": 43,
   "metadata": {},
   "outputs": [
    {
     "name": "stdout",
     "output_type": "stream",
     "text": [
      "(5092, 4)\n",
      "       id domain       name                                            reviews\n",
      "0       1  naver        인왕산  블로그 소일소행 포스팅 참고하셔요!\\nhttps://m.blog.naver.com/...\n",
      "1       1  naver        인왕산  노을지는 시간대에 방문하면 딱이에요! 경복궁역에서 걸어가는 길이 가장 편합니다. 초...\n",
      "2       1  naver        인왕산  겨울철 눈이 오는 날이면 바로 준비하고 인왕산으로 향한다! 이유는 미친 뷰에 눈꽃산...\n",
      "3       1  naver        인왕산  블로그를 보면서 갔지만 생각보다 어려웠던 길!\\n무악재역쪽 길로 출발해서 단군성전쪽...\n",
      "4       1  naver        인왕산  독립문역에서 올라가는 인왕산길 눈이 와서\\n그 경치가 뭐라 말할 수 없이 아름답네요...\n",
      "...   ...    ...        ...                                                ...\n",
      "5087  376  naver   예스24스테이지                                재밌는 공연이 많이 올라와서 좋아요\n",
      "5088  376  naver   예스24스테이지                                         좋아요ㅋ만족합니다ㅋ\n",
      "5089  377  naver  예스24아트원2관                              최재웅 배우님의 나레이터는 최고입니다!\n",
      "5090  377  naver  예스24아트원2관  놐놐놐.\\n미드나잇앤틀러스 봤어요.\\n연극은 강추하는데\\n공연장 자체는 그렇게 좋은...\n",
      "5091  377  naver  예스24아트원2관                        창문 넘어 도망친 100세 노인 공연 잘봤습니다~\n",
      "\n",
      "[5092 rows x 4 columns]\n"
     ]
    }
   ],
   "source": [
    "# 리뷰 데이터 확인\n",
    "# print(reviews)\n",
    "# reviews 컬럼이 NaN인 행 삭제\n",
    "reviews = reviews.dropna(subset=[\"reviews\"])\n",
    "print(reviews.shape)\n",
    "print(reviews)"
   ]
  },
  {
   "cell_type": "code",
   "execution_count": 47,
   "metadata": {},
   "outputs": [
    {
     "name": "stdout",
     "output_type": "stream",
     "text": [
      "       id domain       name                                            reviews\n",
      "0       1  naver        인왕산  블로그 소일소행 포스팅 참고하셔요!\\nhttps://m.blog.naver.com/...\n",
      "1       1  naver        인왕산  노을지는 시간대에 방문하면 딱이에요! 경복궁역에서 걸어가는 길이 가장 편합니다. 초...\n",
      "2       1  naver        인왕산  겨울철 눈이 오는 날이면 바로 준비하고 인왕산으로 향한다! 이유는 미친 뷰에 눈꽃산...\n",
      "3       1  naver        인왕산  블로그를 보면서 갔지만 생각보다 어려웠던 길!\\n무악재역쪽 길로 출발해서 단군성전쪽...\n",
      "4       1  naver        인왕산  독립문역에서 올라가는 인왕산길 눈이 와서\\n그 경치가 뭐라 말할 수 없이 아름답네요...\n",
      "...   ...    ...        ...                                                ...\n",
      "5087  376  naver   예스24스테이지                                재밌는 공연이 많이 올라와서 좋아요\n",
      "5088  376  naver   예스24스테이지                                         좋아요ㅋ만족합니다ㅋ\n",
      "5089  377  naver  예스24아트원2관                              최재웅 배우님의 나레이터는 최고입니다!\n",
      "5090  377  naver  예스24아트원2관  놐놐놐.\\n미드나잇앤틀러스 봤어요.\\n연극은 강추하는데\\n공연장 자체는 그렇게 좋은...\n",
      "5091  377  naver  예스24아트원2관                        창문 넘어 도망친 100세 노인 공연 잘봤습니다~\n",
      "\n",
      "[4441 rows x 4 columns]\n"
     ]
    }
   ],
   "source": [
    "# info에 name 컬럼이 존재하는 경우에만 reviews 데이터프레임의 행을 유지하고, 그렇지 않으면 삭제\n",
    "# info에 해당 id의 name 값이 있는지 확인\n",
    "valid_ids = info.loc[info[\"name\"].notna(), \"id\"]\n",
    "# reviews에서 id가 valid_ids에 포함된 행만 유지\n",
    "filtered_reviews = reviews[reviews[\"id\"].isin(valid_ids)]\n",
    "print(filtered_reviews)"
   ]
  },
  {
   "cell_type": "code",
   "execution_count": 48,
   "metadata": {},
   "outputs": [],
   "source": [
    "# 4441 데이터 저장저장!! 완성 및 이름 변경 -> row_data/naver_spot_reviews.csv\n",
    "filtered_reviews.to_csv(\"naver_spot_reviews.csv\", index=False)"
   ]
  },
  {
   "cell_type": "code",
   "execution_count": 164,
   "metadata": {},
   "outputs": [
    {
     "name": "stdout",
     "output_type": "stream",
     "text": [
      "(397, 6)\n",
      "                    name category   rating                            address  \\\n",
      "57           지지배배한복 경복궁점     한복대여      NaN           서울 종로구 자하문로2길 18 3층 지지배배   \n",
      "58              한복남 경복궁점     한복대여      NaN                   서울 종로구 사직로 133-5   \n",
      "59                  한복소녀     한복대여      NaN  서울 종로구 자하문로2길 8 2층 서울 종로구 적선동 98)   \n",
      "60                도령아씨한복     한복대여  별점 4.85                 서울 종로구 자하문로2길 3 2층   \n",
      "61              한복남 프리미엄     한복대여      NaN          서울 종로구 사직로 133-9 한복남 프리미엄   \n",
      "..                   ...      ...      ...                                ...   \n",
      "313                구르미한복     한복대여  별점 4.96                    서울 종로구 효자로 5 1층   \n",
      "314              도로시한복여행     한복대여      NaN                  서울 종로구 윤보선길 23 2층   \n",
      "315                 핑크한복     한복대여      NaN         서울 종로구 사직로 137-3 지상1층 핑크한복   \n",
      "354  Swap 스왑 플래그십 스토어 북촌      자전거      NaN              서울 종로구 삼청로 106-2 1,2층   \n",
      "388        신문박물관PRESSEUM      박물관      NaN     서울 종로구 세종대로 152 일민미술관건물 5층, 6층   \n",
      "\n",
      "                                        business_hours  \\\n",
      "57                                   매일\\n09:00 - 19:00   \n",
      "58                                   매일\\n09:00 - 19:00   \n",
      "59    수\\n09:00 - 19:00 목\\n09:00 - 19:00 금\\n09:00 - ...   \n",
      "60    수\\n09:00 - 18:30 목\\n09:00 - 18:30 금\\n09:00 - ...   \n",
      "61                                   매일\\n09:00 - 19:00   \n",
      "..                                                 ...   \n",
      "313   목(1/23)\\n휴무 금(1/24)\\n휴무 토(1/25)\\n휴무 일(1/26)\\n...   \n",
      "314                                  매일\\n09:00 - 19:00   \n",
      "315   목\\n09:00 - 18:00 금\\n09:00 - 18:00 토\\n09:00 - ...   \n",
      "354   목\\n11:00 - 20:00 금\\n11:00 - 20:00 토\\n11:00 - ...   \n",
      "388   목\\n10:00 - 18:30 금\\n10:00 - 18:30 토\\n10:00 - ...   \n",
      "\n",
      "                                               reviews  \n",
      "57   ['친절하게 잘 골라주셨어요!\\n덕분에 좋은 사진 찍고 갑니다! 감사합니다', '옷...  \n",
      "58   ['시간을 너무 넉넉히 잡고 신청을 해서 기준시간에 비해 빨리 반납하며 넘 아까웠어...  \n",
      "59   ['늘 너무 친절하고 프로페셔널해요', '좋아용', '친구랑 둘이서 예약하고 갔는데...  \n",
      "60   ['비쌉니다. 두시간에 3만원, 모자는 5천원 따로 받았고요. 두 아이 해서 7만원...  \n",
      "61   ['직원분들이 너무 친절하시고 하루에\\n많은 사람들이 대여하러와서 사무적이실거라생각...  \n",
      "..                                                 ...  \n",
      "313  ['예쁘죠? 친절하시고 옷도 머리도 이쁘게 꾸며 주셨어요 번창하세요', '머리 해주...  \n",
      "314  ['북촌산책하다 즉흥적으로 하게된 한복대여였는데\\n사장님 너무친절하시고\\n옷들도다깨...  \n",
      "315  ['친절하세요~^^\\n아이가 입고싶어하는 옷으로 폭 넓게 고를수 있게\\n제안해주시고...  \n",
      "354                                                 []  \n",
      "388  ['신문 만들어보는 체험이 재미있어요', '토욜 도슨트선생님 설명 잘 들었습니다! ...  \n",
      "\n",
      "[93 rows x 6 columns]\n"
     ]
    }
   ],
   "source": [
    "# .. 이미 나눠준 게 있어서 이렇게 하면 안되겠네 ㅠㅠ(이전에 한것)\n",
    "df = pd.read_csv(\"spot_data_0.csv\")\n",
    "print(df.shape)\n",
    "print(df[df[\"name\"].duplicated(keep=False)])"
   ]
  },
  {
   "cell_type": "code",
   "execution_count": null,
   "metadata": {},
   "outputs": [],
   "source": [
    "# 데이터 나누기\n",
    "\n",
    "# naver_spot_info.csv로 저장할 컬럼 선택\n",
    "spot_info = df[[\"id\", \"domain\", \"name\", \"category\", \"rating\", \"address\", \"business_hours\"]]\n",
    "spot_info.to_csv(\"naver_spot_info.csv\", index=False)\n",
    "\n",
    "# naver_spot_reviews.csv로 저장할 컬럼 선택\n",
    "spot_reviews = df[[\"id\", \"domain\", \"name\", \"reviews\"]]\n",
    "spot_reviews.to_csv(\"naver_spot_reviews.csv\", index=False)"
   ]
  },
  {
   "cell_type": "code",
   "execution_count": 4,
   "metadata": {},
   "outputs": [
    {
     "data": {
      "text/plain": [
       "\"['블로그 소일소행 포스팅 참고하셔요!\\\\nhttps://m.blog.naver.com/ojs04267/clip/6900566\\\\n야간산행 서울 퇴근후 가까운 등산추천해요\\\\n멋진뷰가 환상적인야경에 황홀합니다\\\\n왕복2시간 가량소요되며 독립문역 에서 내려 바로 갈수있어요~^~', '노을지는 시간대에 방문하면 딱이에요! 경복궁역에서 걸어가는 길이 가장 편합니다. 초보자들에게 딱인 등산코스이고 무엇보다 서울에서 노을과 야경 명소로 유명한만큼 풍경이 너무 좋아요. 범바위까지는 무리없이 갈 수 있으나 정상까지는 바위길이 조금 험난해서 그 부분만 잘 넘어가면 됩니다! 주말에 혼자 방문했는데 범바위에 사람이 빼곡할만큼 사람이 정말 많았어요! 노을질때 성곽 구멍사이로 찍으면 예쁘게 잘 나와요! @yussun블로그 여행은 언제나 설레에서 사진찍는법 참고!', '겨울철 눈이 오는 날이면 바로 준비하고 인왕산으로 향한다! 이유는 미친 뷰에 눈꽃산행을 마음껏 즐길 수 있기 때문에~! 게다가 내려와서 먹는 식도락 명소들도 참 많이 있어서 여기저기 다닐 수 있다! 😆👍\\\\n다시 한번 꼭 기억! 눈오면 소백산까지 가지 말고 바로 인왕산으로 직행!😆👍👍🏃🏾\\\\u200d♂️🏃\\\\u200d♀️🏃', '블로그를 보면서 갔지만 생각보다 어려웠던 길!\\\\n무악재역쪽 길로 출발해서 단군성전쪽으로 내려왔는데 둘레길은 데크로 잘깔려있고 계단위주의 길이 많았고, 정상에 가는길은 흙길이 많았다.\\\\n가을이 느껴지는 단풍과 예쁜 꽃들이 넘 아름다웠다. 🍁\\\\n한국인들보다 외국인을 더 많이봤는데~ 해골바위랑 모자 바위에.. 락카로 자기이름을 쓴 한국인들때매 부끄러웠다.\\\\n남산도 롯데타워도 청와대도 다보이는 넘 멋진산이다.', '독립문역에서 올라가는 인왕산길 눈이 와서\\\\n그 경치가 뭐라 말할 수 없이 아름답네요\\\\n서울에서 이런 멋진 설산의 느낌을 볼수있다니\\\\n감사할뿐이네요', '가벼운 걸음으로 정상으로 올라가 서울 한가운데에서 아래를 내려다볼 수 있는 인왕산입니다. 서울 중심에 있어서 가기도 편하고 산 자체도 높지가 않은 편이라서 쉽게 등산이 가능해서 좋습니다. 주변 주민들에게는 산책코스 같은 느낌일 것 같습니다.\\\\n\\\\n날씨가 좋고 미세먼지가 없이 공기가 맑다면 주변 경치가 더 예쁘게 잘 보일 것 같습니다. 다음에 또 놀러오고 싶네요.', '10월 9일 한글날, 오전 8시 20분의 인왕산 정상뷰입니다.\\\\n기종 : 갤23 울트라\\\\n\\\\n아침 햇살이 강렬해지기 전에 후딱 갔다왔어요.\\\\n오전 8시쯤에는 사람이 많지 않아 자신만의 페이스로 등산할 수 있어 참 좋습니다.\\\\n단풍이 피면 보여지는 풍경이 더욱 아름답기 때문에\\\\n단풍질 때 또 등산하려고 해요 :)', '인왕산&안산에 다녀 왔어요.\\\\n전구간 풀코스로 4시간 전후 걸렸어요.\\\\n낮지만 바위도 많고 구경거리가 많네요.', '짪고 굵고 안전한 등산코스~ 기차바위 바람은 진짜 시원하다~^^', '노을질때쯤 방문하면 딱이에요! 노을부터 야경까지 감상할수있는곳! 곳곳에 포토스팟도 많고 사람이 많아도 또 북적이는 그 느낌이 즐거운 곳입니다! 산 타는거 힘들어하시는 분들도 즐겁게 올라오실 수 있어요! 외국인들도 많이 등산할만큼 인기있고 가성비 좋은 산!', '주말이라 그런지 사람들이 좀 있는편이었고\\\\n경복궁역에서 출발해서 부암동쪽으로 내려오는 코스로 갔습니다.\\\\n범바위, 정상에서 총 30분 정도 쉬었던거 포함해서 두시간 반 조금 넘게 걸렸고\\\\n산이라고는 거의 안 다녔는데 날씨가 좋아서 한번 가보게 되었는데 초보인거 감안하고도 가볼만한 코스였던거 같습니다.\\\\n날씨 더 추워지기전에 다른 코스로 더 가보고 싶습니다', '인왕산은 잘 알려진 곳이지만, 서울에 이렇게 멋진 야경이 있었나할 곳입니다.\\\\n\\\\n인왕산은 높이 338.2m의 산으로 그리 높지 않아서 초보자분들도 쉽게 올라가실 수 있는데요, 야경을 보러 저는 퇴근하고 저녁시간에 종종 다녀왔습니다.\\\\n\\\\n인왕산은 한양도성길과 길을 같이하고 있어서 한양도성길을 따라 설치되어있는 조명을 따라가면 정상까지 올라갈 수 있게 됩니다.\\\\n\\\\n인왕산은 서울의 진산중에 하나인데 북악산을 주산으로 하고, 남산을 안산, 낙산을 좌청룡, 그리고 인왕산을 우백호로 삼았던 조선조의 명산입니다.\\\\n\\\\n인왕산이라고 이름이 붙은건 인왕사라는 사찰이 있었기 때문이라고 하고요.\\\\n올라가는데는 천천히 올라가도 40분이면 충분이 올라갈 수 있고요, 야간산행을 하시는 분들이 적지 않으니 안전하게 올라가실 수 있기도 하고요.', '맑은 가을 하늘과 공기를 만끽하기 딱 좋은 인왕산 !\\\\n9월 26일 일몰 30분 전 촬영한 사진입니다 (갤23울트라)\\\\n\\\\n일몰 전 작열하는 햇볕에 땀을 뻘뻘 흘리며 정상에 다다랐을 때 숨은 가쁘지만,\\\\n불어오는 시원한 가을 바람을 느끼고\\\\n서울 한복판을 내려다보다보면\\\\n말로 표현하기 어려운 쾌감이 느껴집니다.\\\\n\\\\n미세먼지 수치가 좋을 때 꼭 ! 등산 추천해요 !!', '눈 나린 인왕산', '오늘 서울 한복판에 위치한 인왕산에 다녀왔는데요🤗이곳은 도심 속에서 자연의 숨결을 만끽할 수 있는 멋진 명소로, 서울 시내와 한강이 내려다보이는 환상적인 전망이 매력적입니다.🌱❤️ 비교적 짧은 트레일로 초보자와 중급자 모두에게 적합하며, 다양한 경로가 있어 선택의 폭이 넓어요! 인왕산은 짧지만 깊이 있는 산행을 원하는 분들께 강력히 추천하는 명소입니다. 여러분의 산행이 더욱 특별해지길 바래요🍀🫰', '등산 애호가인 남친 따라 온 인왕산입니다.\\\\n등간코스가 다 다른데, 저희는 경복궁역에서 내려 언덕길을 올라오니 인왕산 입구가 보였어요.\\\\n입구에는 경복궁과 청와대를 지켜주는 수호신인 호랑이 동상이 있습니다. 처음 산 타는 시점에서 20분은 힘들었는데, 조금 쉬어가면서 등산을 하다보니 매우 힘들진 않았어요. 정상으로 다다를때쯤 바위가 많이 보이기 시작하고, 가파른 계단이 나오는데, 한 구간이 길이 매우 좁아서 올라가고 내려가는 사람이 함께 가지 못하여 기다려야 하는 단점이 있습니다.(멀리서 보면 사람들이 힘들어서 못올라가는 것처럼 보이는데 길이 밀리는거예요)\\\\n이 구간에서 길이 정체되며 시간이 오바됬지만, 정상과 가까우니 힘들다는 생각은 안드네요 정상보다는 정상 아래에 뷰가 더 뷰티풀해요.', '윤동주문학관에서 올라가는 길 가파라 힘들었지만\\\\n올라가는 도중에 펼쳐진 풍경과\\\\n정상에서의 전망은 정말 멋집니다~~~', '둘레길로 갈수있다고 편하게 준비없이 산책느낌으로 갈 생각에 만났는데 간김에 정상까지 욕심내서 완등했다.뷰가 확트여 너무 좋았고 뷰가 이렇게 좋은줄 몰랐다.\\\\n336높이밖에 안되지만 오르는데 재미가 있다.', '롯데잠실타워,남산타워 다보이고 야경뷰짱!! 불꽃쇼 보러 올라왔는데 너무 멋지다!!', '📍인왕산 (완등까지 왕복 1시간 30분)\\\\n📍중간에 계단이 많고, 올라가는 길에 커다란 돌과 자갈 모래들이 있는 편\\\\n📍국내 100대 명산 중 비교적 쉬운 산\\\\n\\\\n등산 초보들도 무난하게 올 수 있어요 마지막에 올라가는 길이 좀 비좁긴 한데, 그래도 명산 중에선 난이도 쉬운편에 속합니다.\\\\n고도는 높진 않은데, 산이 넓은 편이라 길 모르면 샛길로 빠지지 말고 남들 가는 길로 가세요!', '날씨 너무 좋고 뷰도 너무 좋고\\\\n너무 힘들지 않아서 더 좋고 사람도 많더라구요!', '계단공사? 하고 있네요.', '언제가도 좋은 인왕산입니다. 서대문독립문공원 맞은 편에서 올라 윤동주 문학관으로 하산했어요. 외국인들도 많이 오네요.', '1시간이내로 가볍게 오를수있어요', '인왕산은 서울에 위치한 산으로, 경복궁의 서쪽에 위치한다. 해발 338.2m의 높이다. 인왕산은 바위로 이루어진 지형으로 유명하며, 특히 정상 부근의 바위 지대는 멋진 전망을 보여준다.\\\\n\\\\n서울 도심의 중심부에 위치하면서도 자연의 아름다움을 간직하고 있어 많은 사람들에게 인기가 있다. 정상에서는 서울 시내의 전망을 감상할 수 있으며, 남쪽으로 경복궁과 청와대의 경치가 아름답다. 또한, 다양한 등산로가 있어 다양한 난이도와 경로를 선택할 수 있다.\\\\n\\\\n조선 시대에는 인왕산을 경계로 한성부와 경기도가 나뉘었으며, 인왕산에는 인왕사라는 사찰이 있었다. 현재도 인왕산에는 인왕산의 역사와 문화를 알리는 다양한 유적지가 있다.\\\\n\\\\n성하의 뜨거운 날씨지만, 천천히 걸으며 인왕산의 풍경을 즐겨본다.', '서울에서 본 야경중 가장 좋았어요.\\\\n마지막엔 바위가 있어서 조금 무서웠습니다.\\\\n하지만 야경이 정말 아름다워요.\\\\n\\\\n차타고 최대한 올라가면 30분 소요 예상\\\\n대중타고 입구부터 걸어올라가면 쉬어가면 50분정도 소요됩니다.\\\\n\\\\n투자하는 시간에 비할 수 없게 좋은 풍경이에요.', '인왕산둘레길을 가려고 했는데 표지판에 인왕산정상이 1.? km 라고 써있어서 넘 쉽게게 가자 했습니다🤣계단지옥 이구요..도성길을 따라가면 정상이라고 해서 산에서 줄 서는거 처음 이였어요😮한 줄로 다녀야하고 가파라서 막힌거였고..정상인줄 알고 동영상 찍고 숨 고르고 있었는데 잉? 위에 사람들이 올라가시네요?🤣 비켜주기도 힘든 길이라 창피함이고 뭐고 그냥 기어올라갔습니다😂 정상 찍고 반대편 창의문쪽으로 빠져서 개미마을로 내려왔습니다😁ㅎㅎ초보코스라고해서 갔는데..전 저질체력 인가 봅니다ㅠㅠ5시간은 등산한것 같은데 3시간 걸렸더라구요..🤣공휴일이라 사람이 많아서 그랬던것도 있고 2시간? 반정도면 충분하실것 같아요~근데 뷰는 정말 꿀이에요😍', '오랜만의 인왕산은 뷰맛집이었네', '추워 사람이 별로 없어서 좋아요', '인왕산 청량한 가을하늘 보기 좋았어요👍']\""
      ]
     },
     "execution_count": 4,
     "metadata": {},
     "output_type": "execute_result"
    }
   ],
   "source": [
    "test = spot_reviews[\"reviews\"][0]"
   ]
  },
  {
   "cell_type": "code",
   "execution_count": null,
   "metadata": {},
   "outputs": [
    {
     "name": "stderr",
     "output_type": "stream",
     "text": [
      "/var/folders/dd/p03cpd850nx3bbxblv922vsm0000gn/T/ipykernel_82988/3359617076.py:2: SettingWithCopyWarning: \n",
      "A value is trying to be set on a copy of a slice from a DataFrame.\n",
      "Try using .loc[row_indexer,col_indexer] = value instead\n",
      "\n",
      "See the caveats in the documentation: https://pandas.pydata.org/pandas-docs/stable/user_guide/indexing.html#returning-a-view-versus-a-copy\n",
      "  spot_reviews['reviews'] = spot_reviews['reviews'].apply(ast.literal_eval)\n"
     ]
    }
   ],
   "source": [
    "# 'reviews' 열을 문자열에서 리스트로 변환\n",
    "spot_reviews['reviews'] = spot_reviews['reviews'].apply(ast.literal_eval)\n",
    "\n",
    "# 'reviews' 열을 확장하여 각 리뷰마다 새로운 행 생성\n",
    "expanded_spot_reviews = spot_reviews.explode('reviews')\n",
    "\n",
    "# csv로 저장\n",
    "expanded_spot_reviews.to_csv(\"naver_spot_reviews.csv\", index=False)"
   ]
  },
  {
   "cell_type": "code",
   "execution_count": 9,
   "metadata": {},
   "outputs": [
    {
     "name": "stderr",
     "output_type": "stream",
     "text": [
      "<>:8: SyntaxWarning: invalid escape sequence '\\d'\n",
      "<>:8: SyntaxWarning: invalid escape sequence '\\d'\n",
      "/var/folders/dd/p03cpd850nx3bbxblv922vsm0000gn/T/ipykernel_85844/3558039548.py:8: SyntaxWarning: invalid escape sequence '\\d'\n",
      "  df['rating'] = df['rating'].str.extract('(\\d+\\.?\\d*)').astype(float)\n"
     ]
    }
   ],
   "source": [
    "# CSV 파일 읽기\n",
    "df = pd.read_csv(\"naver_spot_info.csv\")\n",
    "\n",
    "# \"별점\"이라는 단어가 없는 값을 NaN으로 설정\n",
    "df.loc[~df['rating'].str.contains(\"별점\", na=False), 'rating'] = np.nan\n",
    "\n",
    "# 'rating' 열에서 숫자만 남기기\n",
    "df['rating'] = df['rating'].str.extract('(\\d+\\.?\\d*)').astype(float)\n",
    "\n",
    "# csv로 저장\n",
    "df.to_csv(\"naver_spot_info.csv\", index=False)\n"
   ]
  },
  {
   "cell_type": "code",
   "execution_count": 29,
   "metadata": {},
   "outputs": [],
   "source": [
    "# CSV 파일 읽기\n",
    "info = pd.read_csv(\"naver_food_info.csv\")\n",
    "# CSV 파일 읽기\n",
    "review = pd.read_csv(\"naver_review.csv\")"
   ]
  },
  {
   "cell_type": "code",
   "execution_count": 40,
   "metadata": {},
   "outputs": [],
   "source": [
    "# domain 컬럼 추가\n",
    "# review[\"domain\"] = \"naver\"\n",
    "\n",
    "# # info와 reviews를 병합\n",
    "# reviews = pd.merge(review, info[[\"id\", \"domain\", \"name\"]], on=\"id\", how=\"left\")\n",
    "\n",
    "# # 컬럼 순서 조정 (id -> domain -> name -> review)\n",
    "# reviews = reviews[[\"id\", \"domain\", \"name\", \"review\"]]\n",
    "\n",
    "# # 컬럼명 변경\n",
    "reviews.rename(columns={\"review\": \"reviews\"}, inplace=True)"
   ]
  },
  {
   "cell_type": "code",
   "execution_count": 44,
   "metadata": {},
   "outputs": [
    {
     "name": "stdout",
     "output_type": "stream",
     "text": [
      "3025\n"
     ]
    }
   ],
   "source": [
    "print(reviews[\"reviews\"].isna().sum())"
   ]
  },
  {
   "cell_type": "code",
   "execution_count": 46,
   "metadata": {},
   "outputs": [
    {
     "data": {
      "text/plain": [
       "(103948, 4)"
      ]
     },
     "execution_count": 46,
     "metadata": {},
     "output_type": "execute_result"
    }
   ],
   "source": [
    "reviews.shape"
   ]
  },
  {
   "cell_type": "code",
   "execution_count": 47,
   "metadata": {},
   "outputs": [
    {
     "name": "stdout",
     "output_type": "stream",
     "text": [
      "          id domain        name  \\\n",
      "0         18  naver  노모어피자 대학로점   \n",
      "1         18  naver  노모어피자 대학로점   \n",
      "2         18  naver  노모어피자 대학로점   \n",
      "3         18  naver  노모어피자 대학로점   \n",
      "4         18  naver  노모어피자 대학로점   \n",
      "...      ...    ...         ...   \n",
      "103943  6605  naver    콘크리트 팔레트   \n",
      "103944  6605  naver    콘크리트 팔레트   \n",
      "103945  6605  naver    콘크리트 팔레트   \n",
      "103946  6605  naver    콘크리트 팔레트   \n",
      "103947  6605  naver    콘크리트 팔레트   \n",
      "\n",
      "                                                  reviews  \n",
      "0       혜화동 새로 오픈한 신상 피자집! 대학로 cgv 영화관람하고 왔어요. 시그니처 바질...  \n",
      "1       JMT !!!!!!!!!! 노모어피자 하도 유행해서 먹어봤는데 왜 먹는지 알겠더라고...  \n",
      "2       대학로에. 노모어피자가. 생기다니!!!!!! 여기 사장님이 노모어피자 초창기 운영하...  \n",
      "3       피자가 빨리 나오고 맛있어요! 매장 안에 화장실 있어서 편리합니당. 아이랑 갔는데 ...  \n",
      "4       새로 생겨서 가봤는데 진짜 넘 맛도링 ~~~~\\n피자는 물론이고 바질뇨끼 진짜 맛있어요!  \n",
      "...                                                   ...  \n",
      "103943  오늘은 까눌레가 늦게 나오네용 ~ 🥲\\n그래서 저번이랑 똑같이 주문했다는 ~\\n커피...  \n",
      "103944  오~~~랜만에 대학로 ~ 👀🤟🏻✨\\n일행 기다려야 해서 잠시 카페 들어 왔는데\\n아...  \n",
      "103945       밤라떼 달지 않고 맛있어요! 까눌레도 겉바속쫀득 완벽해서 커피랑 꿀조합입니다:)  \n",
      "103946  주말 낮에 자리 여유많았어요\\n2층도 있었어요 통유리라 낮에 유리쪽은 좀 덥긴했는데...  \n",
      "103947  혜화 오다가며 봤던 곳이었는데, 전체가 카페였다니ㅋㅋㄱ 상상도 못했네요!\\n콘크리트...  \n",
      "\n",
      "[100923 rows x 4 columns]\n"
     ]
    }
   ],
   "source": [
    "# 리뷰 컬럼에서 빈 값이 있는 행 삭제\n",
    "reviews = reviews.dropna(subset=[\"reviews\"])\n",
    "\n",
    "# 결과 확인\n",
    "print(reviews)\n"
   ]
  },
  {
   "cell_type": "code",
   "execution_count": 48,
   "metadata": {},
   "outputs": [],
   "source": [
    "# csv로 저장\n",
    "reviews.to_csv(\"naver_store_reviews.csv\", index=False)"
   ]
  },
  {
   "cell_type": "code",
   "execution_count": 49,
   "metadata": {},
   "outputs": [
    {
     "data": {
      "text/plain": [
       "(5385, 4)"
      ]
     },
     "execution_count": 49,
     "metadata": {},
     "output_type": "execute_result"
    }
   ],
   "source": [
    "df = pd.read_csv(\"naver_spot_reviews.csv\")\n",
    "df.shape"
   ]
  },
  {
   "cell_type": "code",
   "execution_count": 50,
   "metadata": {},
   "outputs": [
    {
     "name": "stdout",
     "output_type": "stream",
     "text": [
      "       id domain       name                                            reviews\n",
      "0       1  naver        인왕산  블로그 소일소행 포스팅 참고하셔요!\\nhttps://m.blog.naver.com/...\n",
      "1       1  naver        인왕산  노을지는 시간대에 방문하면 딱이에요! 경복궁역에서 걸어가는 길이 가장 편합니다. 초...\n",
      "2       1  naver        인왕산  겨울철 눈이 오는 날이면 바로 준비하고 인왕산으로 향한다! 이유는 미친 뷰에 눈꽃산...\n",
      "3       1  naver        인왕산  블로그를 보면서 갔지만 생각보다 어려웠던 길!\\n무악재역쪽 길로 출발해서 단군성전쪽...\n",
      "4       1  naver        인왕산  독립문역에서 올라가는 인왕산길 눈이 와서\\n그 경치가 뭐라 말할 수 없이 아름답네요...\n",
      "...   ...    ...        ...                                                ...\n",
      "5380  376  naver   예스24스테이지                                재밌는 공연이 많이 올라와서 좋아요\n",
      "5381  376  naver   예스24스테이지                                         좋아요ㅋ만족합니다ㅋ\n",
      "5382  377  naver  예스24아트원2관                              최재웅 배우님의 나레이터는 최고입니다!\n",
      "5383  377  naver  예스24아트원2관  놐놐놐.\\n미드나잇앤틀러스 봤어요.\\n연극은 강추하는데\\n공연장 자체는 그렇게 좋은...\n",
      "5384  377  naver  예스24아트원2관                        창문 넘어 도망친 100세 노인 공연 잘봤습니다~\n",
      "\n",
      "[5092 rows x 4 columns]\n"
     ]
    }
   ],
   "source": [
    "# 리뷰 컬럼에서 빈 값이 있는 행 삭제\n",
    "df = df.dropna(subset=[\"reviews\"])\n",
    "\n",
    "# 결과 확인\n",
    "print(df)"
   ]
  },
  {
   "cell_type": "code",
   "execution_count": 51,
   "metadata": {},
   "outputs": [],
   "source": [
    "# csv로 저장\n",
    "df.to_csv(\"naver_spot_reviews.csv\", index=False)"
   ]
  },
  {
   "cell_type": "code",
   "execution_count": null,
   "metadata": {},
   "outputs": [],
   "source": []
  }
 ],
 "metadata": {
  "kernelspec": {
   "display_name": ".venv",
   "language": "python",
   "name": "python3"
  },
  "language_info": {
   "codemirror_mode": {
    "name": "ipython",
    "version": 3
   },
   "file_extension": ".py",
   "mimetype": "text/x-python",
   "name": "python",
   "nbconvert_exporter": "python",
   "pygments_lexer": "ipython3",
   "version": "3.13.1"
  }
 },
 "nbformat": 4,
 "nbformat_minor": 2
}
