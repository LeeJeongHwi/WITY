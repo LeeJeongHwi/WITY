{
 "cells": [
  {
   "cell_type": "code",
   "execution_count": 19,
   "metadata": {},
   "outputs": [],
   "source": [
    "import pandas as pd\n",
    "import numpy as np"
   ]
  },
  {
   "cell_type": "code",
   "execution_count": 73,
   "metadata": {},
   "outputs": [],
   "source": [
    "# info, reviews를 하나로 통합\n",
    "\n",
    "# all info 모으기\n",
    "naver = pd.read_csv(\"naver_spot_info.csv\")\n",
    "kakao = pd.read_csv(\"kakao_spot_info.csv\")\n",
    "google = pd.read_csv(\"google_spot_info.csv\")\n",
    "\n",
    "# all reviews 모으기\n",
    "# naver = pd.read_csv(\"naver_store_reviews.csv\")\n",
    "# kakao = pd.read_csv(\"kakao_store_reviews.csv\")\n",
    "# google = pd.read_csv(\"google_store_reviews.csv\")"
   ]
  },
  {
   "cell_type": "code",
   "execution_count": 74,
   "metadata": {},
   "outputs": [
    {
     "name": "stdout",
     "output_type": "stream",
     "text": [
      "(350, 9)\n",
      "(377, 8)\n",
      "(377, 8)\n"
     ]
    }
   ],
   "source": [
    "print(naver.shape)\n",
    "print(kakao.shape)\n",
    "print(google.shape)\n"
   ]
  },
  {
   "cell_type": "code",
   "execution_count": 75,
   "metadata": {},
   "outputs": [],
   "source": [
    "# main_category 빈 컬럼 추가\n",
    "kakao.insert(kakao.columns.get_loc('category'), 'main_category', np.nan)\n",
    "google.insert(google.columns.get_loc('category'), 'main_category', np.nan)"
   ]
  },
  {
   "cell_type": "code",
   "execution_count": 78,
   "metadata": {},
   "outputs": [
    {
     "name": "stdout",
     "output_type": "stream",
     "text": [
      "(350, 9)\n",
      "(350, 9)\n"
     ]
    }
   ],
   "source": [
    "# kakao 데이터에서 naver의 id에 해당하는 행만 필터링\n",
    "filtered_kakao = kakao[kakao['id'].isin(naver['id'])]\n",
    "filtered_google = google[google['id'].isin(naver['id'])]\n",
    "# 결과 확인\n",
    "print(filtered_kakao.shape)\n",
    "print(filtered_google.shape)"
   ]
  },
  {
   "cell_type": "code",
   "execution_count": 80,
   "metadata": {},
   "outputs": [
    {
     "name": "stdout",
     "output_type": "stream",
     "text": [
      "       id  domain       name main_category  category  rating  \\\n",
      "0       1   naver        인왕산          자연명소         산     NaN   \n",
      "1       1   kakao        인왕산           NaN         산     4.8   \n",
      "2       1  google        인왕산           NaN    자연보호구역     4.7   \n",
      "3       2   naver        북악산          자연명소         산     NaN   \n",
      "4       2   kakao        북악산           NaN         산     4.3   \n",
      "...   ...     ...        ...           ...       ...     ...   \n",
      "1045  376   kakao   예스24스테이지           NaN  공연장,연극극장     3.6   \n",
      "1046  376  google   예스24스테이지           NaN   공연예술 극장     4.3   \n",
      "1047  377   naver  예스24아트원2관          공연전시      부속시설     NaN   \n",
      "1048  377   kakao        NaN           NaN       NaN     NaN   \n",
      "1049  377  google   예스24 아트원           NaN       NaN     5.0   \n",
      "\n",
      "                  address                                     business_hours  \\\n",
      "0         서울 종로구 무악동 산2-1                                                NaN   \n",
      "1       서울 종로구 옥인동 산 3-39                                                NaN   \n",
      "2      서울특별시 종로구 무악동 산2-1                                                NaN   \n",
      "3              서울 종로구 부암동   매일 07:00 - 18:00 (16시까지 입산),봄,가을(3~4월,9~10월) ...   \n",
      "4       서울 종로구 삼청동 산 2-27  3월 1일 ~ 4월 30일: 매일 07:00 ~ 18:00 (16시까지 입산) 5월...   \n",
      "...                   ...                                                ...   \n",
      "1045     서울 종로구 대학로12길 21    영업시간: 화~금 13:00 ~ 22:30 영업시간: 토,일 12:00 ~ 21:30   \n",
      "1046  서울특별시 종로구 대학로12길 21                                                NaN   \n",
      "1047     서울 종로구 대학로12길 83                                                NaN   \n",
      "1048                  NaN                                                NaN   \n",
      "1049  서울특별시 종로구 대학로12길 83                                                NaN   \n",
      "\n",
      "     price_per_one  \n",
      "0              NaN  \n",
      "1              NaN  \n",
      "2              NaN  \n",
      "3              NaN  \n",
      "4              NaN  \n",
      "...            ...  \n",
      "1045           NaN  \n",
      "1046           NaN  \n",
      "1047           NaN  \n",
      "1048           NaN  \n",
      "1049           NaN  \n",
      "\n",
      "[1050 rows x 9 columns]\n"
     ]
    }
   ],
   "source": [
    "# 데이터 통합\n",
    "merged = pd.concat([naver, filtered_kakao, filtered_google], ignore_index=True)\n",
    "\n",
    "# 'domain' 정렬 우선순위 설정\n",
    "domain_order = {\"naver\": 1, \"kakao\": 2, \"google\": 3}\n",
    "merged[\"domain_order\"] = merged[\"domain\"].map(domain_order)\n",
    "\n",
    "# id와 domain_order 기준으로 정렬\n",
    "merged = merged.sort_values(by=[\"id\", \"domain_order\"]).drop(columns=[\"domain_order\"]).reset_index(drop=True)\n",
    "\n",
    "# 결과 확인\n",
    "print(merged)"
   ]
  },
  {
   "cell_type": "code",
   "execution_count": 67,
   "metadata": {},
   "outputs": [
    {
     "name": "stdout",
     "output_type": "stream",
     "text": [
      "0\n"
     ]
    },
    {
     "name": "stderr",
     "output_type": "stream",
     "text": [
      "/var/folders/dd/p03cpd850nx3bbxblv922vsm0000gn/T/ipykernel_99796/2218451105.py:2: UserWarning: Boolean Series key will be reindexed to match DataFrame index.\n",
      "  id_with_no_name = merged[merged['domain'] == 'naver'][merged['name'].isna()]['id'].unique()\n"
     ]
    }
   ],
   "source": [
    "# 네이버의 name 값이 없는 id 리스트\n",
    "id_with_no_name = merged[merged['domain'] == 'naver'][merged['name'].isna()]['id'].unique()\n",
    "print(len(id_with_no_name))"
   ]
  },
  {
   "cell_type": "code",
   "execution_count": 47,
   "metadata": {},
   "outputs": [
    {
     "name": "stdout",
     "output_type": "stream",
     "text": [
      "         id  domain                     name main_category    category  \\\n",
      "24        9   naver                    서울메이트            주점      바(BAR)   \n",
      "25        9   kakao                      NaN           NaN         NaN   \n",
      "26        9  google  서울메이트 SEOUL MATE ソウルメイト           NaN          술집   \n",
      "30       11   naver                     막회주자           음식점         생선회   \n",
      "31       11   kakao                      NaN           NaN         NaN   \n",
      "...     ...     ...                      ...           ...         ...   \n",
      "19801  6601   kakao                      NaN           NaN         NaN   \n",
      "19802  6601  google                     고흥식당           NaN         음식점   \n",
      "19812  6605   naver                 콘크리트 팔레트            카페      카페,디저트   \n",
      "19813  6605   kakao                      NaN           NaN         NaN   \n",
      "19814  6605  google         Concrete Palette           NaN  커피숍/커피 전문점   \n",
      "\n",
      "       rating                  address  \\\n",
      "24        NaN         서울 종로구 종로 298 2층   \n",
      "25        NaN                      NaN   \n",
      "26        5.0      서울특별시 종로구 종로 298 2층   \n",
      "30        NaN   서울 종로구 인사동길 49 4층 416호   \n",
      "31        NaN                      NaN   \n",
      "...       ...                      ...   \n",
      "19801     NaN                      NaN   \n",
      "19802     4.5     서울특별시 종로구 종로5가 182-7   \n",
      "19812     NaN  서울 종로구 대학로 125 콘크리트 팔레트   \n",
      "19813     NaN                      NaN   \n",
      "19814     4.5    서울특별시 종로구 명륜4가 88-2번지   \n",
      "\n",
      "                                          business_hours  \\\n",
      "24      월\\n정기휴무 (매주 월요일) 화\\n19:00 - 23:00 수\\n19:00 - ...   \n",
      "25                                                   NaN   \n",
      "26                                                   NaN   \n",
      "30                                     매일\\n17:00 - 24:00   \n",
      "31                                                   NaN   \n",
      "...                                                  ...   \n",
      "19801                                                NaN   \n",
      "19802                                                NaN   \n",
      "19812   수\\n10:00 - 22:00\\n21:30 라스트오더 목\\n10:00 - 22:0...   \n",
      "19813                                                NaN   \n",
      "19814                                                NaN   \n",
      "\n",
      "                             price_per_one  \n",
      "24                                     NaN  \n",
      "25                                     NaN  \n",
      "26     1인당 ₩20,000~30,000\\n3명의 사용자가 제공한 정보  \n",
      "30                                     NaN  \n",
      "31                                     NaN  \n",
      "...                                    ...  \n",
      "19801                                  NaN  \n",
      "19802  1인당 ₩10,000~20,000\\n4명의 사용자가 제공한 정보  \n",
      "19812                                  NaN  \n",
      "19813                                  NaN  \n",
      "19814      1인당 ₩1~10,000\\n20명의 사용자가 제공한 정보  \n",
      "\n",
      "[11757 rows x 9 columns]\n"
     ]
    }
   ],
   "source": [
    "# 네이버의 name이 없는 id에 대해 카카오와 구글 데이터의 나머지 컬럼을 NaN으로 변경\n",
    "# for _id in id_with_no_name:\n",
    "#     merged.loc[(merged['id'] == _id) & (merged['domain'] != 'naver'), ['name', 'main_category', 'category', 'rating', 'address', 'business_hours', 'price_per_one']] = pd.NA\n",
    "\n",
    "# 네이버의 name이 없는 id에 대해 카카오와 구글 데이터의 행을 삭제\n",
    "for _id in id_with_no_name:\n",
    "    merged = merged.drop(merged[(merged['id'] == _id)].index)\n",
    "\n",
    "# 결과 확인\n",
    "print(merged)"
   ]
  },
  {
   "cell_type": "code",
   "execution_count": 81,
   "metadata": {},
   "outputs": [
    {
     "name": "stdout",
     "output_type": "stream",
     "text": [
      "       id  domain       name main_category  category  rating  \\\n",
      "0       1   naver        인왕산          자연명소         산     NaN   \n",
      "1       1   kakao        인왕산           NaN         산    4.80   \n",
      "2       1  google        인왕산           NaN    자연보호구역    4.70   \n",
      "3       2   naver        북악산          자연명소         산     NaN   \n",
      "4       2   kakao        북악산           NaN         산    4.30   \n",
      "...   ...     ...        ...           ...       ...     ...   \n",
      "1044  376   naver   예스24스테이지          공연전시   공연,연극시설    4.48   \n",
      "1045  376   kakao   예스24스테이지           NaN  공연장,연극극장    3.60   \n",
      "1046  376  google   예스24스테이지           NaN   공연예술 극장    4.30   \n",
      "1047  377   naver  예스24아트원2관          공연전시      부속시설     NaN   \n",
      "1049  377  google   예스24 아트원           NaN       NaN    5.00   \n",
      "\n",
      "                  address                                     business_hours  \\\n",
      "0         서울 종로구 무악동 산2-1                                                NaN   \n",
      "1       서울 종로구 옥인동 산 3-39                                                NaN   \n",
      "2      서울특별시 종로구 무악동 산2-1                                                NaN   \n",
      "3              서울 종로구 부암동   매일 07:00 - 18:00 (16시까지 입산),봄,가을(3~4월,9~10월) ...   \n",
      "4       서울 종로구 삼청동 산 2-27  3월 1일 ~ 4월 30일: 매일 07:00 ~ 18:00 (16시까지 입산) 5월...   \n",
      "...                   ...                                                ...   \n",
      "1044     서울 종로구 대학로12길 21   목\\n13:00 - 22:30 금\\n13:00 - 22:30 토\\n12:00 - ...   \n",
      "1045     서울 종로구 대학로12길 21    영업시간: 화~금 13:00 ~ 22:30 영업시간: 토,일 12:00 ~ 21:30   \n",
      "1046  서울특별시 종로구 대학로12길 21                                                NaN   \n",
      "1047     서울 종로구 대학로12길 83                                                NaN   \n",
      "1049  서울특별시 종로구 대학로12길 83                                                NaN   \n",
      "\n",
      "     price_per_one  \n",
      "0              NaN  \n",
      "1              NaN  \n",
      "2              NaN  \n",
      "3              NaN  \n",
      "4              NaN  \n",
      "...            ...  \n",
      "1044           NaN  \n",
      "1045           NaN  \n",
      "1046           NaN  \n",
      "1047           NaN  \n",
      "1049           NaN  \n",
      "\n",
      "[867 rows x 9 columns]\n"
     ]
    }
   ],
   "source": [
    "# name 컬럼이 NaN인 행을 삭제\n",
    "merged = merged.dropna(subset=['name'])\n",
    "\n",
    "# 결과 확인\n",
    "print(merged)"
   ]
  },
  {
   "cell_type": "code",
   "execution_count": 82,
   "metadata": {},
   "outputs": [],
   "source": [
    "# csv 저장\n",
    "merged.to_csv(\"all_spot_info_2.csv\", index=False)\n",
    "# merged.to_csv(\"all_store_info_2.csv\", index=False)\n"
   ]
  },
  {
   "cell_type": "code",
   "execution_count": 90,
   "metadata": {},
   "outputs": [
    {
     "name": "stdout",
     "output_type": "stream",
     "text": [
      "(867, 9)\n",
      "(13749, 4)\n"
     ]
    }
   ],
   "source": [
    "# 리뷰~\n",
    "info = pd.read_csv(\"all_spot_info_2.csv\")\n",
    "reviews = pd.read_csv(\"all_spot_reviews.csv\")\n",
    "print(info.shape)\n",
    "print(reviews.shape)"
   ]
  },
  {
   "cell_type": "code",
   "execution_count": 91,
   "metadata": {},
   "outputs": [
    {
     "name": "stdout",
     "output_type": "stream",
     "text": [
      "        id  domain       name  \\\n",
      "0        1   naver        인왕산   \n",
      "1        1   naver        인왕산   \n",
      "2        1   naver        인왕산   \n",
      "3        1   naver        인왕산   \n",
      "4        1   naver        인왕산   \n",
      "...    ...     ...        ...   \n",
      "13744  376  google   예스24스테이지   \n",
      "13745  377   naver  예스24아트원2관   \n",
      "13746  377   naver  예스24아트원2관   \n",
      "13747  377   naver  예스24아트원2관   \n",
      "13748  377  google   예스24 아트원   \n",
      "\n",
      "                                                 reviews  \n",
      "0      블로그 소일소행 포스팅 참고하셔요!\\nhttps://m.blog.naver.com/...  \n",
      "1      노을지는 시간대에 방문하면 딱이에요! 경복궁역에서 걸어가는 길이 가장 편합니다. 초...  \n",
      "2      겨울철 눈이 오는 날이면 바로 준비하고 인왕산으로 향한다! 이유는 미친 뷰에 눈꽃산...  \n",
      "3      블로그를 보면서 갔지만 생각보다 어려웠던 길!\\n무악재역쪽 길로 출발해서 단군성전쪽...  \n",
      "4      독립문역에서 올라가는 인왕산길 눈이 와서\\n그 경치가 뭐라 말할 수 없이 아름답네요...  \n",
      "...                                                  ...  \n",
      "13744                    초행길 찾아가느라 애먹었어요. 그닥 길치도 아닌데 ㅠㅠ.  \n",
      "13745                              최재웅 배우님의 나레이터는 최고입니다!  \n",
      "13746  놐놐놐.\\n미드나잇앤틀러스 봤어요.\\n연극은 강추하는데\\n공연장 자체는 그렇게 좋은...  \n",
      "13747                        창문 넘어 도망친 100세 노인 공연 잘봤습니다~  \n",
      "13748  예스24아트원(구. 아트원씨어터) 혜화역2번출구에서 마로니에방향지나 위치해있음. 지...  \n",
      "\n",
      "[12481 rows x 4 columns]\n"
     ]
    }
   ],
   "source": [
    "# info의 id를 기준으로 reviews에서 해당하는 행만 필터링\n",
    "filtered_reviews = reviews[reviews['id'].isin(info['id'])]\n",
    "\n",
    "# 결과 확인\n",
    "print(filtered_reviews)"
   ]
  },
  {
   "cell_type": "code",
   "execution_count": 93,
   "metadata": {},
   "outputs": [
    {
     "name": "stdout",
     "output_type": "stream",
     "text": [
      "344\n",
      "350\n"
     ]
    }
   ],
   "source": [
    "print(len(filtered_reviews['id'].unique()))\n",
    "print(len(naver['id'].unique()))"
   ]
  },
  {
   "cell_type": "code",
   "execution_count": 88,
   "metadata": {},
   "outputs": [
    {
     "name": "stdout",
     "output_type": "stream",
     "text": [
      "naver에만 있는 id: {np.int64(96), np.int64(357), np.int64(168), np.int64(363), np.int64(179), np.int64(342)}\n",
      "filtered_reviews에만 있는 id: set()\n"
     ]
    }
   ],
   "source": [
    "# naver의 id와 filtered_reviews의 id를 각각 집합으로 변환\n",
    "naver_ids = set(naver['id'].unique())\n",
    "reviews_ids = set(filtered_reviews['id'].unique())\n",
    "\n",
    "# naver에만 있는 id\n",
    "naver_only_ids = naver_ids - reviews_ids\n",
    "print(f\"naver에만 있는 id: {naver_only_ids}\")\n",
    "\n",
    "# filtered_reviews에만 있는 id\n",
    "reviews_only_ids = reviews_ids - naver_ids\n",
    "print(f\"filtered_reviews에만 있는 id: {reviews_only_ids}\")"
   ]
  },
  {
   "cell_type": "code",
   "execution_count": 94,
   "metadata": {},
   "outputs": [],
   "source": [
    "# csv 저장\n",
    "# merged.to_csv(\"all_spot_reviews_2.csv\", index=False)\n",
    "filtered_reviews.to_csv(\"all_spot_reviews_2.csv\", index=False)"
   ]
  },
  {
   "cell_type": "code",
   "execution_count": null,
   "metadata": {},
   "outputs": [],
   "source": []
  }
 ],
 "metadata": {
  "kernelspec": {
   "display_name": ".venv",
   "language": "python",
   "name": "python3"
  },
  "language_info": {
   "codemirror_mode": {
    "name": "ipython",
    "version": 3
   },
   "file_extension": ".py",
   "mimetype": "text/x-python",
   "name": "python",
   "nbconvert_exporter": "python",
   "pygments_lexer": "ipython3",
   "version": "3.13.1"
  }
 },
 "nbformat": 4,
 "nbformat_minor": 2
}
