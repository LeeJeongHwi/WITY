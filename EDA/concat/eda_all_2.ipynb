{
 "cells": [
  {
   "cell_type": "code",
   "execution_count": 4,
   "metadata": {},
   "outputs": [],
   "source": [
    "import pandas as pd\n",
    "import numpy as np"
   ]
  },
  {
   "cell_type": "code",
   "execution_count": null,
   "metadata": {},
   "outputs": [],
   "source": [
    "# 정제하자\n",
    "info = pd.read_csv(\"all_store_info_2-1.csv\")\n",
    "print(info.shape)"
   ]
  },
  {
   "cell_type": "code",
   "execution_count": null,
   "metadata": {},
   "outputs": [],
   "source": [
    "# 내가 손으로 삭제한 게 얼마나 있나\n",
    "# name 없는 행 찾기 -> 452개\n",
    "missing_name_rows = info[info['name'].isna()]\n",
    "print(missing_name_rows)\n",
    "# 삭제\n",
    "info = info.dropna(subset=['name'])\n",
    "print(info.shape)"
   ]
  },
  {
   "cell_type": "code",
   "execution_count": 8,
   "metadata": {},
   "outputs": [],
   "source": [
    "# address 없는 행 확인\n",
    "# address가 NaN이거나 빈 문자열인 행 찾기\n",
    "# missing_address_rows = info[info['address'].isna()]\n",
    "# print(missing_address_rows)\n",
    "# address가 NaN인 행 삭제\n",
    "# info = info.dropna(subset=['address'])\n",
    "# print(info.shape)\n",
    "# csv 저장\n",
    "info.to_csv(\"all_store_info_2-1.csv\", index=False)"
   ]
  },
  {
   "cell_type": "code",
   "execution_count": null,
   "metadata": {},
   "outputs": [],
   "source": [
    "# 다시 읽기\n",
    "info = pd.read_csv(\"all_store_info_2-1.csv\")\n",
    "print(info.shape)"
   ]
  },
  {
   "cell_type": "code",
   "execution_count": null,
   "metadata": {},
   "outputs": [],
   "source": [
    "# address가 정확히 \"서울특별시\"인 행 찾기 -> 70개\n",
    "seoul_rows = info[info['address'] == \"서울특별시\"]\n",
    "print(len(seoul_rows))\n",
    "# print(seoul_rows)\n",
    "\n",
    "# seoul_rows의 id에 해당하는 naver 도메인의 name을 찾기 -> 당연히 70개\n",
    "naver_names = info[(info['domain'] == 'naver') & (info['id'].isin(seoul_rows['id']))][['id', 'name']]\n",
    "print(len(naver_names))\n",
    "# print(naver_names)\n",
    "\n",
    "# naver_names와 원본 데이터를 병합하여 name이 다른 행 찾기 -> 24개\n",
    "merged_info = seoul_rows.merge(naver_names, on='id', suffixes=('', '_naver'))\n",
    "filtered_info = merged_info[merged_info['name'] != merged_info['name_naver']]\n",
    "print(len(filtered_info))\n",
    "# print(filtered_info.to_string())\n",
    "\n",
    "# 24개 중 이름이 약간 달라도 같은 집인 것 같으면 address \"서울특별시 종로구\"로 바꾸기\n",
    "# 바꿀 id 리스트\n",
    "ids_to_change = [996, 1131, 1376, 1437, 1596, 2421, 2837, 2921, 4866, 5092, 5196, 5212, 5265, 5356, 5439, 5521, 6002, 6057]\n",
    "# id에 해당하는 행의 google address 값을 \"서울특별시 종로구\"로 변경\n",
    "info.loc[(info['id'].isin(ids_to_change)) & (info['domain'] == 'google'), 'address'] = \"서울특별시 종로구\"\n",
    "\n",
    "# \"종로구\"가 포함되지 않은 행 찾기\n",
    "filtered_info = info[~info['address'].str.contains(\"종로구\", na=False)]\n",
    "print(len(filtered_info))\n",
    "# 데이터 전체 출력\n",
    "# print(filtered_info.to_string())\n",
    "\n",
    "# \"종로구\" 있는 행만 남기기\n",
    "info = info[info['address'].str.contains(\"종로구\", na=False)]  # 조건에 맞지 않는 행 제거\n",
    "print(info.shape)"
   ]
  },
  {
   "cell_type": "code",
   "execution_count": null,
   "metadata": {},
   "outputs": [],
   "source": [
    "# csv 저장\n",
    "# info.to_csv(\"all_store_info_2.csv\", index=False)\n",
    "# 다시 읽기\n",
    "info = pd.read_csv(\"all_store_info_2-3.csv\")\n",
    "print(info.shape)\n",
    "print(len(info[\"id\"].unique()))"
   ]
  },
  {
   "cell_type": "code",
   "execution_count": null,
   "metadata": {},
   "outputs": [],
   "source": [
    "# 이제 id에 한 행으로 통합해보자\n",
    "# naver 데이터만 추출 (name, main_category, category, address, business_hours 가져오기)\n",
    "naver_data = info[info['domain'] == 'naver']\n",
    "\n",
    "# kakao 데이터 (business_hours가 naver에서 없을 때 사용)\n",
    "kakao_data = info[info['domain'] == 'kakao']\n",
    "\n",
    "# google 데이터 (price_per_one을 가져오기 위해 사용)\n",
    "google_data = info[info['domain'] == 'google']\n",
    "\n",
    "# rating의 평균을 계산\n",
    "rating_avg = info.groupby('id')['rating'].mean().reset_index()\n",
    "rating_avg['rating'] = rating_avg['rating'].round(1)\n",
    "\n",
    "# business_hours는 naver에서 가져오되, 없으면 kakao에서 가져오기\n",
    "naver_data['business_hours'] = naver_data['business_hours'].fillna(kakao_data.set_index('id')['business_hours'])\n",
    "\n",
    "# id별로 데이터를 병합하여 최종 통합 데이터 생성\n",
    "final_data = naver_data[['id', 'name', 'main_category', 'category', 'address', 'business_hours']].copy()\n",
    "\n",
    "# rating 추가\n",
    "final_data = final_data.merge(rating_avg[['id', 'rating']], on='id', how='left')\n",
    "\n",
    "# price_per_one은 google에서 가져오기\n",
    "final_data = final_data.merge(google_data[['id', 'price_per_one']], on='id', how='left')\n",
    "\n",
    "# id를 정수형으로 변환\n",
    "final_data['id'] = final_data['id'].astype(int)\n",
    "\n",
    "# 결과 출력\n",
    "print(final_data.shape)"
   ]
  },
  {
   "cell_type": "code",
   "execution_count": null,
   "metadata": {},
   "outputs": [],
   "source": [
    "final_data"
   ]
  },
  {
   "cell_type": "code",
   "execution_count": null,
   "metadata": {},
   "outputs": [],
   "source": [
    "print(len(final_data[\"name\"].unique()))\n",
    "\n",
    "# 중복된 name 찾기\n",
    "duplicate_names = final_data[final_data.duplicated(subset=['name'], keep=False)]\n",
    "# name을 기준으로 정렬\n",
    "duplicate_names_sorted = duplicate_names.sort_values(by='name')\n",
    "print(duplicate_names_sorted.to_string())"
   ]
  },
  {
   "cell_type": "code",
   "execution_count": 24,
   "metadata": {},
   "outputs": [],
   "source": [
    "# csv 저장\n",
    "final_data.to_csv(\"all_store_info_5.csv\", index=False)"
   ]
  },
  {
   "cell_type": "code",
   "execution_count": null,
   "metadata": {},
   "outputs": [],
   "source": [
    "# 리뷰~\n",
    "info = pd.read_csv(\"all_store_info_2-1.csv\")\n",
    "reviews = pd.read_csv(\"all_store_reviews_2.csv\")\n",
    "print(info.shape)\n",
    "print(len(info['id'].unique()))\n",
    "print(reviews.shape)\n",
    "print(len(reviews['id'].unique()))"
   ]
  },
  {
   "cell_type": "code",
   "execution_count": null,
   "metadata": {},
   "outputs": [],
   "source": [
    "# (id, domain) 쌍을 집합으로 변환\n",
    "info_id_domain = set(zip(info['id'], info['domain']))\n",
    "reviews_id_domain = set(zip(reviews['id'], reviews['domain']))\n",
    "\n",
    "# 합집합 (모든 (id, domain) 포함)\n",
    "id_domain_union = info_id_domain | reviews_id_domain\n",
    "\n",
    "# 교집합 (두 데이터프레임에 공통으로 존재하는 (id, domain))\n",
    "id_domain_intersection = info_id_domain & reviews_id_domain\n",
    "\n",
    "# 차집합 (info에는 있지만 reviews에는 없는 (id, domain))\n",
    "id_domain_diff_info = info_id_domain - reviews_id_domain\n",
    "\n",
    "# 차집합 (reviews에는 있지만 info에는 없는 (id, domain))\n",
    "id_domain_diff_reviews = reviews_id_domain - info_id_domain\n",
    "\n",
    "# 결과 출력\n",
    "print(f\"합집합 개수: {len(id_domain_union)}\")\n",
    "print(f\"교집합 개수: {len(id_domain_intersection)}\")\n",
    "print(f\"info에만 있는 (id, domain) 개수: {len(id_domain_diff_info)}\")\n",
    "print(f\"reviews에만 있는 (id, domain) 개수: {len(id_domain_diff_reviews)}\")\n",
    "\n",
    "# 실제 값 출력 (필요하면 주석 해제)\n",
    "# print(\"info에만 있는 (id, domain) 목록:\", id_domain_diff_info)\n",
    "# print(\"reviews에만 있는 (id, domain) 목록:\", id_domain_diff_reviews)"
   ]
  },
  {
   "cell_type": "code",
   "execution_count": null,
   "metadata": {},
   "outputs": [],
   "source": [
    "# 교집합 (id, domain) 기준으로 reviews 데이터 필터링\n",
    "filtered_reviews = reviews[reviews.set_index(['id', 'domain']).index.isin(id_domain_intersection)]\n",
    "\n",
    "# 결과 출력\n",
    "print(filtered_reviews.shape)\n",
    "print(filtered_reviews.head())"
   ]
  },
  {
   "cell_type": "code",
   "execution_count": null,
   "metadata": {},
   "outputs": [],
   "source": [
    "# (id, domain) 쌍을 집합으로 변환\n",
    "info_id_domain = set(zip(info['id'], info['domain']))\n",
    "reviews_id_domain = set(zip(filtered_reviews['id'], filtered_reviews['domain']))\n",
    "\n",
    "# 합집합 (모든 (id, domain) 포함)\n",
    "id_domain_union = info_id_domain | reviews_id_domain\n",
    "\n",
    "# 교집합 (두 데이터프레임에 공통으로 존재하는 (id, domain))\n",
    "id_domain_intersection = info_id_domain & reviews_id_domain\n",
    "\n",
    "# 차집합 (info에는 있지만 reviews에는 없는 (id, domain))\n",
    "id_domain_diff_info = info_id_domain - reviews_id_domain\n",
    "\n",
    "# 차집합 (reviews에는 있지만 info에는 없는 (id, domain))\n",
    "id_domain_diff_reviews = reviews_id_domain - info_id_domain\n",
    "\n",
    "# 결과 출력\n",
    "print(f\"합집합 개수: {len(id_domain_union)}\")\n",
    "print(f\"교집합 개수: {len(id_domain_intersection)}\")\n",
    "print(f\"info에만 있는 (id, domain) 개수: {len(id_domain_diff_info)}\")\n",
    "print(f\"reviews에만 있는 (id, domain) 개수: {len(id_domain_diff_reviews)}\")\n",
    "\n",
    "# 실제 값 출력 (필요하면 주석 해제)\n",
    "# print(\"info에만 있는 (id, domain) 목록:\", id_domain_diff_info)\n",
    "# print(\"reviews에만 있는 (id, domain) 목록:\", id_domain_diff_reviews)"
   ]
  },
  {
   "cell_type": "code",
   "execution_count": null,
   "metadata": {},
   "outputs": [],
   "source": [
    "# info와 reviews의 id 집합 생성\n",
    "info_ids = set(info['id'])\n",
    "reviews_ids = set(reviews['id'])\n",
    "\n",
    "# 합집합 (모든 id 포함, 중복 제거)\n",
    "id_union = info_ids | reviews_ids\n",
    "# 교집합 (둘 다 포함된 id)\n",
    "id_intersection = info_ids & reviews_ids\n",
    "# 차집합 (info에는 있지만 reviews에는 없는 id)\n",
    "id_diff_info = info_ids - reviews_ids\n",
    "# 차집합 (reviews에는 있지만 info에는 없는 id)\n",
    "id_diff_reviews = reviews_ids - info_ids\n",
    "\n",
    "# 결과 출력\n",
    "print(f\"합집합 개수: {len(id_union)}\")\n",
    "print(f\"교집합 개수: {len(id_intersection)}\")\n",
    "print(f\"info에만 있는 id 개수: {len(id_diff_info)}\")\n",
    "print(f\"reviews에만 있는 id 개수: {len(id_diff_reviews)}\")\n",
    "\n",
    "# 실제 값 출력 (필요하면 주석 해제)\n",
    "# print(\"info에만 있는 id 목록:\", id_diff_info)\n",
    "# print(\"reviews에만 있는 id 목록:\", id_diff_reviews)"
   ]
  },
  {
   "cell_type": "code",
   "execution_count": null,
   "metadata": {},
   "outputs": [],
   "source": [
    "print(len(info['id'].unique()))\n",
    "print(len(filtered_reviews['id'].unique()))"
   ]
  },
  {
   "cell_type": "code",
   "execution_count": null,
   "metadata": {},
   "outputs": [],
   "source": [
    "missing_ids = set(info['id'].unique()) - set(filtered_reviews['id'].unique())\n",
    "print(f\"info에는 있지만 reviews에는 없는 id 개수: {len(missing_ids)}\")\n",
    "print(\"일부 missing id 예시:\", list(missing_ids)[:10])"
   ]
  },
  {
   "cell_type": "code",
   "execution_count": 45,
   "metadata": {},
   "outputs": [],
   "source": [
    "# csv 저장\n",
    "filtered_reviews.to_csv(\"all_store_reviews_3.csv\", index=False)"
   ]
  },
  {
   "cell_type": "code",
   "execution_count": null,
   "metadata": {},
   "outputs": [],
   "source": [
    "# 리뷰 정제\n",
    "reviews = pd.read_csv(\"all_store_reviews_3.csv\")\n",
    "print(reviews.shape)\n",
    "print(len(reviews['id'].unique()))\n",
    "missing_reviews = reviews[reviews['reviews'].isna() | (reviews['reviews'].str.strip() == '')]\n",
    "print(missing_reviews)"
   ]
  },
  {
   "cell_type": "code",
   "execution_count": null,
   "metadata": {},
   "outputs": [],
   "source": [
    "import emoji\n",
    "\n",
    "# 이모티콘 제거 함수\n",
    "def remove_emojis(text):\n",
    "    return emoji.replace_emoji(text, \"\")\n",
    "\n",
    "# 'reviews' 열에서 이모티콘만 제거\n",
    "reviews['reviews'] = reviews['reviews'].apply(remove_emojis)\n",
    "\n",
    "# 이모티콘 제거로 인한 리뷰 공백 확인 후 제거 -> 472개 제거 (161652개 남음)\n",
    "missing_reviews = reviews[reviews['reviews'].isna() | (reviews['reviews'].str.strip() == '')]\n",
    "print(missing_reviews.shape)\n",
    "reviews_cleaned = reviews.drop(missing_reviews.index)\n",
    "reviews_cleaned = reviews_cleaned.reset_index(drop=True)\n",
    "print(reviews_cleaned.shape)\n",
    "print(reviews.shape)"
   ]
  },
  {
   "cell_type": "code",
   "execution_count": null,
   "metadata": {},
   "outputs": [],
   "source": [
    "import re\n",
    "\n",
    "def clean_text(text):\n",
    "    # 줄바꿈을 공백으로 바꿔줌\n",
    "    text = re.sub(r'\\n+', ' ', text)\n",
    "    \n",
    "    return text\n",
    "\n",
    "# 'reviews' 열에서 줄바꿈 처리\n",
    "reviews_cleaned2 = reviews_cleaned.copy()\n",
    "reviews_cleaned2['reviews'] = reviews_cleaned2['reviews'].apply(clean_text)\n",
    "\n",
    "# 결과 확인\n",
    "print(reviews_cleaned2.head())"
   ]
  },
  {
   "cell_type": "code",
   "execution_count": null,
   "metadata": {},
   "outputs": [],
   "source": [
    "# 숫자로만 이루어진 리뷰 찾기 -> 13개\n",
    "numeric_reviews = reviews_cleaned2[reviews_cleaned2['reviews'].str.match(r'^\\d+(\\.\\d+)?$', na=False)]\n",
    "print(numeric_reviews.shape)\n",
    "# print(numeric_reviews)\n",
    "\n",
    "# 특수문자로만 이루어진 리뷰 찾기 -> 549개\n",
    "special_char_reviews = reviews_cleaned2[reviews_cleaned2['reviews'].str.match(r'^[^\\w\\s]+$', na=False)]\n",
    "print(special_char_reviews.shape)\n",
    "# print(special_char_reviews.to_string())\n",
    "\n",
    "# 위의 리뷰 제외\n",
    "reviews_cleaned3 = reviews_cleaned2.copy()\n",
    "reviews_cleaned3 = reviews_cleaned3[~reviews_cleaned3['reviews'].str.match(r'^\\d+(\\.\\d+)?$', na=False)]\n",
    "reviews_cleaned3 = reviews_cleaned3[~reviews_cleaned3['reviews'].str.match(r'^[^\\w\\s]+$', na=False)]\n",
    "reviews_cleaned3 = reviews_cleaned3.reset_index(drop=True)\n",
    "print(reviews_cleaned3.shape)"
   ]
  },
  {
   "cell_type": "code",
   "execution_count": null,
   "metadata": {},
   "outputs": [],
   "source": [
    "# # 자음과 모음만 있는 부분을 찾아 출력하는 함수\n",
    "# def find_consonant_vowel(text):\n",
    "#     # 자음만, 모음만, 자음+모음 혼합 포함된 부분 찾기\n",
    "#     pattern = r'[ㄱ-ㅎㅏ-ㅣ]+'  # 자음만 또는 모음만 있는 부분을 찾는 정규식\n",
    "#     matches = re.findall(pattern, text)\n",
    "#     return matches\n",
    "\n",
    "# # 'reviews' 열에서 자음과 모음만 있는 부분 찾기\n",
    "reviews_cleaned4 = reviews_cleaned3.copy()  # 원본 복사\n",
    "# reviews_cleaned4['consonant_vowel_only'] = reviews_cleaned4['reviews'].apply(find_consonant_vowel)\n",
    "\n",
    "# # 자음과 모음만 포함된 부분 출력\n",
    "# matches_reviews = reviews_cleaned4[reviews_cleaned4['consonant_vowel_only'].apply(lambda x: len(x) > 0)]\n",
    "# # print(matches_reviews[['reviews', 'consonant_vowel_only']].to_string())\n",
    "\n",
    "# 자음, 모음만 있는 경우를 제거하는 정규 표현식\n",
    "def remove_consonant_vowel(text):\n",
    "    # 자음만, 모음만, 자음+모음 혼합 포함된 부분을 찾아 제거\n",
    "    text = re.sub(r'[ㄱ-ㅎㅏ-ㅣ]+', '', text)  # 자음만 또는 모음만 있는 부분을 제거\n",
    "    text = re.sub(r'\\s+', ' ', text)  # 여러 공백을 하나의 공백으로 치환\n",
    "    text = text.strip()  # 앞뒤 공백 제거\n",
    "    return text\n",
    "\n",
    "# 'reviews' 열에서 자음이나 모음만 있는 경우 제거\n",
    "reviews_cleaned4['reviews'] = reviews_cleaned4['reviews'].apply(remove_consonant_vowel)\n",
    "\n",
    "# 결과 확인\n",
    "print(reviews_cleaned4.shape)\n",
    "print(reviews_cleaned4.to_string())"
   ]
  },
  {
   "cell_type": "code",
   "execution_count": null,
   "metadata": {},
   "outputs": [],
   "source": [
    "# 특수문자 제외하고 5글자 이하인 리뷰 찾기\n",
    "\n",
    "# 특수문자 제거 함수\n",
    "def remove_special_chars(text):\n",
    "    # 특수문자 제거 (영어, 한글, 숫자, 공백은 남김)\n",
    "    text = re.sub(r'[^\\w\\s]', '', text)\n",
    "    # 공백 처리\n",
    "    text = ' '.join(text.split())\n",
    "    return text\n",
    "\n",
    "# 특수문자 제거 후 공백 처리\n",
    "reviews_cleaned5 = reviews_cleaned4.copy() #.drop(columns=['consonant_vowel_only'])\n",
    "reviews_cleaned5['reviews'] = reviews_cleaned5['reviews'].apply(remove_special_chars)\n",
    "# print(reviews_cleaned5.to_string())\n",
    "\n",
    "# # 길이가 5글자 이하인 값 찾기\n",
    "# filtered_reviews = reviews_cleaned5[reviews_cleaned5['reviews'].str.len() <= 5]\n",
    "# print(filtered_reviews.shape)\n",
    "# print(filtered_reviews.to_string())\n",
    "\n",
    "# 길이가 5글자 이하인 리뷰가 있는 행 삭제\n",
    "reviews_cleaned6 = reviews_cleaned5[reviews_cleaned5['reviews'].str.len() > 5]\n",
    "print(reviews_cleaned6.shape)"
   ]
  },
  {
   "cell_type": "code",
   "execution_count": 14,
   "metadata": {},
   "outputs": [],
   "source": [
    "# csv 저장\n",
    "reviews_cleaned6.to_csv(\"all_store_reviews_4.csv\", index=False)"
   ]
  },
  {
   "cell_type": "code",
   "execution_count": null,
   "metadata": {},
   "outputs": [],
   "source": [
    "# 다시 읽기\n",
    "info = pd.read_csv(\"all_store_info_2-1.csv\")\n",
    "reviews = pd.read_csv(\"all_store_reviews_4.csv\")\n",
    "print(info.shape)\n",
    "print(reviews.shape)\n",
    "print(len(info['id'].unique()))\n",
    "print(len(reviews['id'].unique()))"
   ]
  },
  {
   "cell_type": "code",
   "execution_count": null,
   "metadata": {},
   "outputs": [],
   "source": [
    "# info 에서 없어진 리뷰 해당 id 삭제\n",
    "info_filtered = info[info['id'].isin(reviews['id'])]\n",
    "print(info_filtered.shape)\n",
    "print(len(info_filtered['id'].unique()))"
   ]
  },
  {
   "cell_type": "code",
   "execution_count": null,
   "metadata": {},
   "outputs": [],
   "source": [
    "# 'id' 컬럼을 정수형으로 변환\n",
    "info_filtered['id'] = info_filtered['id'].astype(int)\n",
    "info_filtered"
   ]
  },
  {
   "cell_type": "code",
   "execution_count": 19,
   "metadata": {},
   "outputs": [],
   "source": [
    "# csv 저장\n",
    "info_filtered.to_csv(\"all_store_info_2-3.csv\", index=False)"
   ]
  },
  {
   "cell_type": "code",
   "execution_count": null,
   "metadata": {},
   "outputs": [],
   "source": [
    "# 마지막 확인\n",
    "info = pd.read_csv(\"all_store_info_5.csv\")\n",
    "reviews = pd.read_csv(\"all_store_reviews_4.csv\")\n",
    "print(info.shape)\n",
    "print(reviews.shape)\n",
    "print(len(info['id'].unique()))\n",
    "print(len(reviews['id'].unique()))"
   ]
  },
  {
   "cell_type": "code",
   "execution_count": null,
   "metadata": {},
   "outputs": [],
   "source": [
    "# info와 reviews의 id 집합 생성\n",
    "info_ids = set(info['id'])\n",
    "reviews_ids = set(reviews['id'])\n",
    "\n",
    "# 합집합 (모든 id 포함, 중복 제거)\n",
    "id_union = info_ids | reviews_ids\n",
    "# 교집합 (둘 다 포함된 id)\n",
    "id_intersection = info_ids & reviews_ids\n",
    "# 차집합 (info에는 있지만 reviews에는 없는 id)\n",
    "id_diff_info = info_ids - reviews_ids\n",
    "# 차집합 (reviews에는 있지만 info에는 없는 id)\n",
    "id_diff_reviews = reviews_ids - info_ids\n",
    "\n",
    "# 결과 출력\n",
    "print(f\"합집합 개수: {len(id_union)}\")\n",
    "print(f\"교집합 개수: {len(id_intersection)}\")\n",
    "print(f\"info에만 있는 id 개수: {len(id_diff_info)}\")\n",
    "print(f\"reviews에만 있는 id 개수: {len(id_diff_reviews)}\")\n",
    "\n",
    "# 실제 값 출력 (필요하면 주석 해제)\n",
    "# print(\"info에만 있는 id 목록:\", id_diff_info)\n",
    "# print(\"reviews에만 있는 id 목록:\", id_diff_reviews)"
   ]
  },
  {
   "cell_type": "code",
   "execution_count": null,
   "metadata": {},
   "outputs": [],
   "source": []
  }
 ],
 "metadata": {
  "kernelspec": {
   "display_name": ".venv",
   "language": "python",
   "name": "python3"
  },
  "language_info": {
   "codemirror_mode": {
    "name": "ipython",
    "version": 3
   },
   "file_extension": ".py",
   "mimetype": "text/x-python",
   "name": "python",
   "nbconvert_exporter": "python",
   "pygments_lexer": "ipython3",
   "version": "3.13.1"
  }
 },
 "nbformat": 4,
 "nbformat_minor": 2
}
